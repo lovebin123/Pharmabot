{
 "cells": [
  {
   "cell_type": "code",
   "execution_count": 1,
   "metadata": {},
   "outputs": [
    {
     "name": "stdout",
     "output_type": "stream",
     "text": [
      "Requirement already satisfied: selenium in c:\\users\\loveb\\appdata\\local\\programs\\python\\python311\\lib\\site-packages (4.18.1)\n",
      "Requirement already satisfied: urllib3<3,>=1.26 in c:\\users\\loveb\\appdata\\local\\programs\\python\\python311\\lib\\site-packages (from urllib3[socks]<3,>=1.26->selenium) (2.0.7)\n",
      "Requirement already satisfied: trio~=0.17 in c:\\users\\loveb\\appdata\\local\\programs\\python\\python311\\lib\\site-packages (from selenium) (0.25.0)\n",
      "Requirement already satisfied: trio-websocket~=0.9 in c:\\users\\loveb\\appdata\\local\\programs\\python\\python311\\lib\\site-packages (from selenium) (0.11.1)\n",
      "Requirement already satisfied: certifi>=2021.10.8 in c:\\users\\loveb\\appdata\\local\\programs\\python\\python311\\lib\\site-packages (from selenium) (2023.11.17)\n",
      "Requirement already satisfied: typing_extensions>=4.9.0 in c:\\users\\loveb\\appdata\\local\\programs\\python\\python311\\lib\\site-packages (from selenium) (4.11.0)\n",
      "Requirement already satisfied: attrs>=23.2.0 in c:\\users\\loveb\\appdata\\local\\programs\\python\\python311\\lib\\site-packages (from trio~=0.17->selenium) (23.2.0)\n",
      "Requirement already satisfied: sortedcontainers in c:\\users\\loveb\\appdata\\local\\programs\\python\\python311\\lib\\site-packages (from trio~=0.17->selenium) (2.4.0)\n",
      "Requirement already satisfied: idna in c:\\users\\loveb\\appdata\\local\\programs\\python\\python311\\lib\\site-packages (from trio~=0.17->selenium) (3.6)\n",
      "Requirement already satisfied: outcome in c:\\users\\loveb\\appdata\\local\\programs\\python\\python311\\lib\\site-packages (from trio~=0.17->selenium) (1.3.0.post0)\n",
      "Requirement already satisfied: sniffio>=1.3.0 in c:\\users\\loveb\\appdata\\local\\programs\\python\\python311\\lib\\site-packages (from trio~=0.17->selenium) (1.3.0)\n",
      "Requirement already satisfied: cffi>=1.14 in c:\\users\\loveb\\appdata\\local\\programs\\python\\python311\\lib\\site-packages (from trio~=0.17->selenium) (1.16.0)\n",
      "Requirement already satisfied: wsproto>=0.14 in c:\\users\\loveb\\appdata\\local\\programs\\python\\python311\\lib\\site-packages (from trio-websocket~=0.9->selenium) (1.2.0)\n",
      "Requirement already satisfied: pysocks!=1.5.7,<2.0,>=1.5.6 in c:\\users\\loveb\\appdata\\local\\programs\\python\\python311\\lib\\site-packages (from urllib3[socks]<3,>=1.26->selenium) (1.7.1)\n",
      "Requirement already satisfied: pycparser in c:\\users\\loveb\\appdata\\local\\programs\\python\\python311\\lib\\site-packages (from cffi>=1.14->trio~=0.17->selenium) (2.22)\n",
      "Requirement already satisfied: h11<1,>=0.9.0 in c:\\users\\loveb\\appdata\\roaming\\python\\python311\\site-packages (from wsproto>=0.14->trio-websocket~=0.9->selenium) (0.14.0)\n"
     ]
    }
   ],
   "source": [
    "!pip install selenium\n"
   ]
  },
  {
   "cell_type": "code",
   "execution_count": 1,
   "metadata": {},
   "outputs": [],
   "source": [
    "#Import the necessary packages\n",
    "\n",
    "from selenium import webdriver\n",
    "import pandas as pd\n",
    "import time\n",
    "from selenium.webdriver.common.by import By\n",
    "from selenium.webdriver.chrome.service import Service\n",
    "from selenium.webdriver.support.ui import Select\n",
    "from bs4 import BeautifulSoup\n",
    "from webdriver_manager.chrome import ChromeDriverManager \n",
    "from selenium.webdriver.support.ui import WebDriverWait\n",
    "from selenium.webdriver.support import expected_conditions as EC\n"
   ]
  },
  {
   "cell_type": "code",
   "execution_count": 2,
   "metadata": {},
   "outputs": [],
   "source": [
    "service=Service(ChromeDriverManager().install())        #Initialize the selenium webdriver\n",
    "options=webdriver.ChromeOptions()\n",
    "options.add_experimental_option('excludeSwitches', ['enable-logging'])  #This will allow us to list errors if any\n",
    "options.add_extension('AdBlock — block ads across the web 6.1.1.0.crx') #In order to make webscraping faster we add a adblock\n"
   ]
  },
  {
   "cell_type": "code",
   "execution_count": 5,
   "metadata": {},
   "outputs": [],
   "source": [
    "#Loading the web driver and the website\n",
    "driver = webdriver.Chrome(options=options,service=service)\n",
    "driver.get('https://www.rxlist.com/drugs/alpha_n.htm')\n"
   ]
  },
  {
   "cell_type": "code",
   "execution_count": 6,
   "metadata": {},
   "outputs": [],
   "source": [
    "#Loading beautiful soup\n",
    "\n",
    "soup = BeautifulSoup(driver.page_source, 'html.parser')\n"
   ]
  },
  {
   "cell_type": "code",
   "execution_count": 7,
   "metadata": {},
   "outputs": [
    {
     "name": "stdout",
     "output_type": "stream",
     "text": [
      "0\n",
      "\n",
      "1\n",
      "\n",
      "2\n",
      "\n",
      "3\n",
      "\n",
      "4\n",
      "\n"
     ]
    }
   ],
   "source": [
    "\n",
    "soup = BeautifulSoup(driver.page_source, 'html.parser')\n",
    "k=soup.find('div',class_='AZ_results')\n",
    "li=k.findAll('ul')\n",
    "m=0\n",
    "list_sizes=[]\n",
    "for i in range(len(li)):\n",
    "    s=set()\n",
    "    li1=li[i]\n",
    "    print(i)\n",
    "    print()\n",
    "    li_list=li1.findChildren()\n",
    "    for i in li_list:\n",
    "        s.add(i.text)\n",
    "    list_sizes.append(len(s))\n",
    "\n",
    "    "
   ]
  },
  {
   "cell_type": "code",
   "execution_count": 9,
   "metadata": {},
   "outputs": [],
   "source": [
    "#Finding all subheadings for iteration\n",
    "ul=k.find('h4').find_all('a')\n",
    "ulA=len(ul)"
   ]
  },
  {
   "cell_type": "code",
   "execution_count": 10,
   "metadata": {},
   "outputs": [
    {
     "name": "stdout",
     "output_type": "stream",
     "text": [
      "5\n"
     ]
    }
   ],
   "source": [
    "print(ulA)\n"
   ]
  },
  {
   "cell_type": "code",
   "execution_count": 11,
   "metadata": {},
   "outputs": [
    {
     "name": "stdout",
     "output_type": "stream",
     "text": [
      "73\n"
     ]
    }
   ],
   "source": [
    "print(list_sizes[0])"
   ]
  },
  {
   "cell_type": "code",
   "execution_count": 12,
   "metadata": {},
   "outputs": [
    {
     "name": "stdout",
     "output_type": "stream",
     "text": [
      "73\n"
     ]
    },
    {
     "name": "stdout",
     "output_type": "stream",
     "text": [
      "{'Medicine Name': 'Acetylcysteine Solution', 'Use': 'Mucomyst (Acetylcysteine Solution n-acetyl-l-cysteine) is a solution of a naturally occurring amino acid that is used to help clear mucus (acts as a mucolytic agent) and material entrapped in mucus in people that have thick mucus that may interfere with breathing or other functions. For example, \\nMucomyst (Acetylcysteine Solution)  may be used to help clear mucus in COPD, cystic fibrosis, pneumonia, and in tracheostomy care. \\nMucomyst (Acetylcysteine Solution) may also be used as an antidote for acetaminophen toxicity. \\nMucomyst (Acetylcysteine Solution) is available as a generic.', 'Side Effects': ['inflammation of the mouth, ', 'nausea, ', 'vomiting, ', 'fever, ', 'runny nose, ', 'drowsiness, '], 'Dosage': 'When nebulized into a face mask, mouthpiece, or tracheostomy, 1 to 10 mL of the 20% \\nMucomyst (Acetylcysteine Solution) or 2 to 20 mL of the 10% solution may be given every 2 to 6 hours; the recommended dose of \\nMucomyst (Acetylcysteine Solution) for most patients is 3 to 5 mL of the 20% solution or 6 to 10 mL of the 10% solution three to four times a day.'}\n",
      "{'Medicine Name': 'Nabi HB', 'Use': 'Nabi-HB Hepatitis B Immune Globulin (Human) is made from human plasma used to prevent hepatitis B in people receiving a liver transplant, and in babies born to mothers infected with hepatitis B. Nabi-HB is also used to prevent hepatitis B in people who have been exposed to contaminated blood products, or through household or sexual contact with an infected person. Nabi-HB is not a vaccine and will not provide long-term protection from hepatitis B. For long-term protection you must receive a hepatitis B vaccine such as Engerix-B, Recombivax HB, or Twinrix. Nabi-HB is available in generic form.', 'Side Effects': ['hives,', 'difficulty breathing,', 'swelling of your face, lips, tongue, or throat,', 'fainting,', 'dizziness,', 'lightheadedness,'], 'Dosage': 'An injection of Nabi-HB 0.06 mL/kg of body weight should be administered intramuscularly as soon as possible after exposure and within 24 hours, if possible.'}\n",
      "{'Medicine Name': 'Cesamet', 'Use': 'Cesamet (nabilone) is a man-made form of cannabis (marijuana is an herbal form of cannabis) used to treat severe nausea and vomiting that is caused by cancer chemotherapy. Cesamet is for use only when other medications have been unable to control the nausea and vomiting.', 'Side Effects': ['hives,', 'difficulty breathing,', 'swelling of your face, lips, tongue, or throat,', 'hallucinations,', 'confusion,', 'unusual thoughts or behavior,'], 'Dosage': 'The usual adult dosage of Cesamet is 1 or 2 mg twice daily. On the day of chemotherapy, the initial dose should be given 1 to 3 hours before the chemotherapy is administered.'}\n",
      "{'Medicine Name': 'Relafen', 'Use': 'Relafen (nabumetone) is a nonsteroidal anti-inflammatory (NSAID) drug used to treat inflammation and pain caused by arthritis. The brand name drug Relafen is no longer available in the U.S. Generic versions may be available.', 'Side Effects': ['uncontrolled muscle movements in your face (chewing, lip smacking, frowning, tongue movement, blinking or eye movement),', 'shortness of breath,', 'swelling,', 'rapid weight gain,', 'bloody or tarry stools,', 'coughing up blood or vomit that looks like coffee grounds,'], 'Dosage': 'Relafen may interact with antidepressants, blood thinners, lithium, methotrexate, diuretics (water pills), steroids, aspirin or other NSAIDs, or ACE inhibitors.'}\n",
      "{'Medicine Name': 'Nacellate', 'Use': 'Nacellate Solution 0.9% (1000ML- sodium chloride injection) is a source of water and electrolytes used for fluid and electrolyte replenishment and as a priming solution in hemodialysis procedures.', 'Side Effects': ['hypersensitivity/infusion reactions, including low blood pressure (hypotension), fever, tremor, chills, hives, rash, and itching and', 'high or low sodium levels in the blood', 'corticosteroids and', 'lithium'], 'Dosage': \"The dosage, rate, and duration of administration of Nacellate are individualized and depend upon the indication for use, the patient's age, weight, clinical condition, concomitant treatment, and on the patient's clinical and laboratory response to treatment.\"}\n",
      "{'Medicine Name': 'Adstiladrin', 'Use': 'Adstiladrin (nadofaragene firadenovec-vncg) is a non-replicating adenoviral vector-based gene therapy indicated for the treatment of adult patients with high-risk Bacillus Calmette-Guérin (BCG)-unresponsive non-muscle invasive bladder cancer (NMIBC) with carcinoma in situ (CIS) with or without papillary tumors.', 'Side Effects': ['hives,', 'difficulty breathing,', 'swelling of your face, lips, tongue, or throat,', 'urinary urgency,', 'urinary incontinency,', 'urinary frequency, \\xa0'], 'Dosage': 'The dose is 75 mL of Adstiladrin at a concentration of 3 x 1011 viral particles (vp)/mL, instilled once every three (3) months.'}\n",
      "{'Medicine Name': 'Corgard', 'Use': 'Corgard (nadolol) is a beta-blocker used to treat angina (chest pain) and hypertension (high blood pressure). Corgard is available in generic form.', 'Side Effects': ['numbness or cold feeling in your hands or feet,', 'dizziness,', 'feeling tired,', 'upset stomach,', 'vomiting,', 'diarrhea,'], 'Dosage': 'Corgard is a prescription medicine used to treat the symptoms of High Blood Pressure (Hypertension), and Chest Pain (Angina Pectoris). Corgard may be used alone or with other medications.'}\n",
      "{'Medicine Name': 'Corzide', 'Use': 'Corzide (nadolol and bendroflumethiazide) is a combination beta-blocker and diuretic used to treat high blood pressure (hypertension). Corzide is available in generic form.', 'Side Effects': ['dizziness', 'spinning sensation', 'lightheadedness', 'slow heartbeat', 'tiredness', 'nausea'], 'Dosage': 'Dosing of Corzide is individualized. The initial dose of Corzide may be 40 mg/5 mg tablet once daily.'}\n",
      "{'Medicine Name': 'Synarel', 'Use': 'Synarel (nafarelin acetate) nasal solution is a man-made form of a protein that is like a hormone and is used to treat precocious puberty in both male and female children. Synarel is also used to treat endometriosis in women who are 18 years of age or older.', 'Side Effects': ['hives,', 'difficulty breathing,', 'swelling of your face, lips, tongue, or throat,', 'vaginal spotting,', 'continued menstrual bleeding,', 'pelvic pain or swelling,'], 'Dosage': 'For the management of endometriosis, the recommended daily dose of Synarel is 400 µg.'}\n",
      "{'Medicine Name': 'Nafcillin', 'Use': 'Nafcillin (Brand Names: Nallpen, Unipen) is an antibiotic in the penicillin group of drugs used to treat many different types of infections, especially those caused by staphylococcus bacteria (\"staph\" infections). Nafcillin is available in generic form.', 'Side Effects': [' pain at the injection site if this medication is injected into a muscle, ', ' nausea, ', ' vomiting, ', ' vaginal itching or discharge, ', 'or black or \"hairy\" tongue. '], 'Dosage': 'N/A'}\n",
      "{'Medicine Name': 'Nafcillin', 'Use': 'Nafcillin (Brand Names: Nallpen, Unipen) is an antibiotic in the penicillin group of drugs used to treat many different types of infections, especially those caused by staphylococcus bacteria (\"staph\" infections). Nafcillin is available in generic form.', 'Side Effects': [' pain at the injection site if this medication is injected into a muscle, ', ' nausea, ', ' vomiting, ', ' vaginal itching or discharge, ', 'or black or \"hairy\" tongue. '], 'Dosage': 'N/A'}\n",
      "{'Medicine Name': 'Naftin Gel', 'Use': \"Naftin (naftifine) Gel, 1% is a topical (for the skin) antifungal medication used to treat skin infections such as athlete's foot, jock itch, and ringworm infections.\", 'Side Effects': ['burning, ', 'stinging, ', 'irritation, ', 'redness, ', 'dry skin, or ', 'itching at application site. '], 'Dosage': 'A sufficient quantity of Naftin Gel, 1% should be gently massaged into the affected and surrounding skin areas twice a day in the morning and evening. The hands should be washed after application.'}\n",
      "{'Medicine Name': 'Naftin Cream', 'Use': \"Naftin (naftifine hydrochloride) Cream is a topical (for the skin) antifungal medication used to treat skin infections such as athlete's foot, jock itch, and ringworm infections.\", 'Side Effects': ['application site reactions (burning, stinging, irritation, redness, dry skin, itching, inflammation, softening and breakdown of skin, blisters, serous drainage, or crusting), \\n\\t', 'headache, and ', 'dizziness. ', 'Serious eye symptoms such as sudden vision loss, blurred vision, tunnel vision, eye pain or swelling, or seeing halos around lights;', 'Serious heart symptoms such as fast, irregular, or pounding heartbeats; fluttering in your chest; shortness of breath; and sudden dizziness, lightheartedness, or passing out;', 'Severe headache, confusion, slurred speech, arm or leg weakness, trouble walking, loss of coordination, feeling unsteady, very stiff muscles, high fever, profuse sweating, or tremors.'], 'Dosage': 'Apply a thin layer dose of Naftin Cream, 2% once-daily to the affected areas plus a \\t½ inch margin of healthy surrounding skin for 2 weeks.'}\n",
      "{'Medicine Name': 'Naftin Cream', 'Use': \"Naftin (naftifine hydrochloride) Cream is a topical (for the skin) antifungal medication used to treat skin infections such as athlete's foot, jock itch, and ringworm infections.\", 'Side Effects': ['application site reactions (burning, stinging, irritation, redness, dry skin, itching, inflammation, softening and breakdown of skin, blisters, serous drainage, or crusting), \\n\\t', 'headache, and ', 'dizziness. ', 'Serious eye symptoms such as sudden vision loss, blurred vision, tunnel vision, eye pain or swelling, or seeing halos around lights;', 'Serious heart symptoms such as fast, irregular, or pounding heartbeats; fluttering in your chest; shortness of breath; and sudden dizziness, lightheartedness, or passing out;', 'Severe headache, confusion, slurred speech, arm or leg weakness, trouble walking, loss of coordination, feeling unsteady, very stiff muscles, high fever, profuse sweating, or tremors.'], 'Dosage': 'Apply a thin layer dose of Naftin Cream, 2% once-daily to the affected areas plus a \\t½ inch margin of healthy surrounding skin for 2 weeks.'}\n",
      "{'Medicine Name': 'Naftin Gel', 'Use': \"Naftin (naftifine) Gel, 1% is a topical (for the skin) antifungal medication used to treat skin infections such as athlete's foot, jock itch, and ringworm infections.\", 'Side Effects': ['burning, ', 'stinging, ', 'irritation, ', 'redness, ', 'dry skin, or ', 'itching at application site. '], 'Dosage': 'A sufficient quantity of Naftin Gel, 1% should be gently massaged into the affected and surrounding skin areas twice a day in the morning and evening. The hands should be washed after application.'}\n",
      "{'Medicine Name': 'Naglazyme', 'Use': 'Naglazyme (galsulfase) is an enzyme used to treat some of the symptoms of a genetic condition called Maroteaux-Lamy syndrome (mucopolysaccharidosis). Naglazyme improves walking and stair-climbing capacity.', 'Side Effects': ['hives,', 'difficulty breathing,', 'swelling of your face, lips, tongue, or throat,', 'rapid breathing,', 'shortness of breath,', 'chest pain,'], 'Dosage': 'The recommended dosage regimen of Naglazyme is 1 mg per kg of body weight administered once weekly as an intravenous infusion.'}\n",
      "{'Medicine Name': 'Nubain', 'Use': 'Nubain (nalbuphine hydrochloride) is a narcotic pain reliever used to treat moderate to severe pain. Nubain is also used for treating pain just after surgery or childbirth.', 'Side Effects': ['slow breathing with long pauses,', 'blue colored lips,', 'difficult to wake up,', 'shallow breathing,', 'breathing that stops during sleep,', 'lightheadedness,'], 'Dosage': 'The usual recommended adult dose of Nubain is 10 mg for a 70 kg individual, administered subcutaneously, intramuscularly or intravenously; this dose may be repeated every 3 to 6 hours as necessary.'}\n",
      "{'Medicine Name': 'Symproic', 'Use': 'Symproic (naldemedine) tablets are an opioid antagonist indicated for the treatment of opioid-induced constipation (OIC) in adult patients with chronic non-cancer pain.', 'Side Effects': ['abdominal pain, ', 'diarrhea, ', 'nausea, and ', 'vomiting. '], 'Dosage': 'In adults, the recommended dosage of Symproic is 0.2 mg once daily with or without food.'}\n",
      "{'Medicine Name': 'Nalfon', 'Use': 'Nalfon (fenoprofen calcium) is a nonsteroidal anti-inflammatory drug (NSAID) used to treat pain or inflammation caused by arthritis.', 'Side Effects': ['hives,', 'difficulty breathing,', 'swelling of your face, lips, tongue, or throat,', 'runny or stuffy nose,', 'wheezing,', 'fever,'], 'Dosage': 'For the treatment of mild to moderate pain, the recommended dosage of Nalfon is 200 mg taken orally every 4 to 6 hours, as needed. For the relief of signs and symptoms of rheumatoid arthritis or osteoarthritis the recommended dose is 400 to 600 mg taken orally, 3 or 4 times a day.'}\n",
      "{'Medicine Name': 'Neggram', 'Use': 'NegGram (nalidixic acid) Oral Suspension is a quinolone antibiotic used to treat urinary tract infections. NegGram is available in generic form.', 'Side Effects': ['drowsiness, ', 'weakness, ', 'headache, ', 'dizziness, ', 'spinning sensation (vertigo), ', 'abdominal pain, '], 'Dosage': 'The recommended dosage of NegGram is 1 gram taken four times a day for one or two weeks, and 2 grams per day thereafter.'}\n",
      "{'Medicine Name': 'Neggram Caplets', 'Use': 'NegGram (nalidixic acid) is a quinolone antibiotic used to treat urinary tract infections. NegGram is available in generic form.', 'Side Effects': ['drowsiness, ', 'weakness, ', 'headache, ', 'dizziness, ', 'spinning sensation (vertigo), ', 'abdominal pain, '], 'Dosage': 'The recommended dosage of NegGram is 1 gram taken four times a day for one or two weeks, and 2 grams per day thereafter.'}\n",
      "{'Medicine Name': 'Revex', 'Use': 'Revex (nalmefene hydrochloride injection) is an opioid antagonist used to treat a narcotic overdose or other situation in which opioid side effects may be harmful. The brand name Revex is discontinued, but generic versions may be available.', 'Side Effects': ['hives,', 'difficulty breathing,', 'swelling of your face, lips, tongue, or throat,', 'fast heart rate,', 'low or high blood pressure,', 'dizziness,'], 'Dosage': 'The recommended dose of Revex for reversal of postoperative opioid depression is 100 μg/mL dosage strength (blue label). For management of known or suspected opioid overdose, use 1.0 mg/mL dosage strength (green label).'}\n",
      "{'Medicine Name': 'Opvee', 'Use': 'Opvee (nalmefene) nasal spray is an opioid antagonist indicated for the emergency treatment of known or suspected overdose induced by natural or synthetic opioids in adults and pediatric patients aged 12 years and older, as manifested by respiratory and/or central nervous system depression.', 'Side Effects': ['nasal discomfort,', 'headache,', 'nausea,', 'dizziness,', 'hot flushes,', 'vomiting,'], 'Dosage': 'The dose of Opvee nasal spray is a single spray administered intranasally into nose.'}\n",
      "{'Medicine Name': 'Movantik', 'Use': 'Movantik (naloxegol) is an opioid antagonist used to treat opioid-induced constipation (OIC) in adult patients with chronic non-cancer pain.', 'Side Effects': ['stomach/abdominal pain,', 'diarrhea,', 'nausea,', 'gas (flatulence),', 'vomiting,', 'headache,'], 'Dosage': 'The recommended adult dosage of Movantik is 25 mg once daily in the morning.'}\n",
      "{'Medicine Name': 'Evzio', 'Use': 'Evzio (naloxone hydrochloride injection) is an opioid antagonist used for the emergency treatment of known or suspected opioid overdose, as manifested by respiratory and/or central nervous system depression.', 'Side Effects': ['body aches', 'fever', 'sweating', 'runny nose', 'sneezing', 'goose bumps'], 'Dosage': 'Evzio comes in a pre-filled auto-injector. Each Evzio delivers 0.4 mg naloxone hydrochloride injection (0.4 mL).'}\n",
      "{'Medicine Name': 'Narcan', 'Use': 'Narcan (naloxone) is an opioid antagonist used for the complete or partial reversal of opioid overdose, including respiratory depression. Narcan is also used for diagnosis of suspected or known acute opioid overdose and also for blood pressure support in septic shock. Narcan is available in generic form.', 'Side Effects': ['hives,', 'difficulty breathing, and', 'swelling of your face, lips, tongue or throat', 'flushing, ', 'dizziness, ', 'tiredness, '], 'Dosage': 'Narcan is available as a sterile solution for intravenous, intramuscular, and subcutaneous administration in three strengths: 0.02, 0.4 and 1 mg of naloxone hydrochloride per mL in sterile solution; the 0.4 and 1 mg doses are also available in multidose vials. Use in neonates and other pediatric patients is based on weight (usually 0.01 mg per Kg) and may be adjusted; a pediatric consultant may help manages such patients. Opioid withdrawal syndrome may occur in some patients given large doses of Narcan.'}\n",
      "{'Medicine Name': 'Zimhi', 'Use': 'What Is Zimhi?', 'Side Effects': ['hives,\\xa0', 'difficulty breathing,\\xa0', 'swelling of your face, lips, tongue, or throat,\\xa0', 'severe dizziness,\\xa0', 'agitation,\\xa0', 'disorientation,\\xa0'], 'Dosage': 'N/A'}\n",
      "{'Medicine Name': 'Narcan Nasal', 'Use': 'Narcan (naloxone hydrochloride) Nasal Spray is an opioid antagonist indicated for the emergency treatment of known or suspected opioid overdose, as manifested by respiratory and/or central nervous system depression. Narcan Nasal Spray is intended for immediate administration as emergency therapy in settings where opioids may be present.', 'Side Effects': ['hives,', 'difficulty breathing,', 'swelling of your face, lips, tongue, or throat,', 'body aches,', 'fever,', 'sweating,'], 'Dosage': 'The dose of Narcan Nasal Spray is 4 mg of naloxone hydrochloride in 0.1 mL nasal spray.'}\n",
      "{'Medicine Name': 'Kloxxado', 'Use': 'Kloxxado (naloxone hydrochloride) Nasal Spray is an opioid antagonist indicated for the emergency treatment of known or suspected opioid overdose, as manifested by respiratory and/or central nervous system depression, for adult and pediatric patients.', 'Side Effects': ['abdominal pain,', 'weakness/lack of energy,', 'dizziness, ', 'headache,', 'nasal discomfort, and', 'lightheadedness'], 'Dosage': 'Kloxxado is for intranasal use only. Seek emergency medical care immediately after use. The dose of Kloxxado is a single spray administered to adult or pediatric patients intranasally into one nostril. Administer additional doses of Kloxxado, using a new nasal spray with each dose, if the patient does not respond or responds and then relapses into respiratory depression. Additional doses of Kloxxado may be given every 2 to 3 minutes until emergency medical assistance arrives.'}\n",
      "{'Medicine Name': 'Rextovy', 'Use': 'Rextovy (naloxone hydrochloride) is an opioid antagonist indicated for the emergency treatment of known or suspected opioid overdose, as manifested by respiratory and/or central nervous system depression for adults and pediatric patients.', 'Side Effects': ['numbness and/or tingling in the mouth and', 'headache.', 'Serious eye symptoms such as sudden vision loss, blurred vision,tunnel vision,eye painor swelling, or seeing halos around lights;', 'Serious heart symptoms such as fast, irregular, or pounding heartbeats; fluttering in your chest; shortness of breath; and sudden dizziness, lightheadedness, or passing out;', 'Severe headache,confusion, slurred speech, arm or leg weakness, trouble walking, loss of coordination, feeling unsteady, very stiff muscles, high fever, profuse sweating, or tremors.'], 'Dosage': 'The dose of Rextovy Nasal Spray in adults or pediatric patients is one spray intranasally into one nostril, which delivers 4 mg of naloxone hydrochloride. Administer additional doses of Rextovy using a new nasal spray device with each dose if the patient does not respond or responds and then relapses into respiratory depression. Additional doses of Rextovy may be given every 2 to 3 minutes until emergency medical assistance arrives.'}\n",
      "{'Medicine Name': 'Revia', 'Use': 'Revia (naltrexone) is a special narcotic drug that blocks the effects of other narcotic medicines and alcohol used to treat narcotic drug or alcohol addiction and is taken orally in tablet form.', 'Side Effects': ['weakness, ', 'tiredness, ', 'sleep problems (insomnia), ', 'increased thirst, ', 'anxiety, ', 'nervousness, '], 'Dosage': 'To treat alcoholism, a dose of 50 mg Revia once daily is recommended for most patients. To treat opiod dependence, the initial dose of Revia is 25 mg.'}\n",
      "{'Medicine Name': 'Contrave', 'Use': 'Contrave (naltrexone HCl and bupropion HCl) Extended-release is a combination of an opioid antagonist and an antidepressant used as an adjunct to a reduced-calorie diet and increased physical activity for chronic weight management in adults with an initial body mass index (BMI) of: 30 kg/m2 greater (obese) or 27 kg/m2 or greater (overweight) in the presence of at least one weight-related comorbid condition (e.g., hypertension, type 2 diabetes mellitus, or dyslipidemia).', 'Side Effects': ['nausea, ', 'headache, ', 'vomiting, ', 'constipation, ', 'diarrhea, ', 'dizziness, '], 'Dosage': 'Contrave is started at a low dose and gradually increased. A total daily dosage of two Contrave 8 mg/90 mg tablets twice daily (32 mg/360 mg) is reached at the start of Week 4.'}\n",
      "{'Medicine Name': 'Naltrexone Hydrochloride', 'Use': 'Naltrexone Hydrochloride Tablets are an opioid antagonist indicated in the treatment of alcohol dependence and for the blockade of the effects of exogenously administered opioids. Naltrexone \\nHydrochloride tablets are available in generic form.', 'Side Effects': ['depression,', 'suicidal ideation, and', 'suicide attempts', 'nausea, ', 'headache, ', 'dizziness, '], 'Dosage': 'Before stating Naltrexone Hydrochloride, an opioid-free interval of a minimum of 7 to 10 days is recommended for patients previously dependent on short-acting opioids. To treat alcoholism, a dose of 50 mg \\nNaltrexone Hydrochloride once daily is recommended for most patients. For opioid dependence, treatment should be initiated with an initial dose of 25 mg of \\nNaltrexone Hydrochloride tablets.'}\n",
      "{'Medicine Name': 'Naltrexone Hydrochloride', 'Use': 'Naltrexone Hydrochloride Tablets are an opioid antagonist indicated in the treatment of alcohol dependence and for the blockade of the effects of exogenously administered opioids. Naltrexone \\nHydrochloride tablets are available in generic form.', 'Side Effects': ['depression,', 'suicidal ideation, and', 'suicide attempts', 'nausea, ', 'headache, ', 'dizziness, '], 'Dosage': 'Before stating Naltrexone Hydrochloride, an opioid-free interval of a minimum of 7 to 10 days is recommended for patients previously dependent on short-acting opioids. To treat alcoholism, a dose of 50 mg \\nNaltrexone Hydrochloride once daily is recommended for most patients. For opioid dependence, treatment should be initiated with an initial dose of 25 mg of \\nNaltrexone Hydrochloride tablets.'}\n",
      "{'Medicine Name': 'Vivitrol', 'Use': 'Vivitrol (naltrexone) for Extended-Release Injectable Suspension is an opioid antagonist used to treat alcohol dependence and prevent relapse to opioid dependence.', 'Side Effects': ['weak or shallow breathing,', 'confusion,', 'severe dizziness,', 'lightheadedness,', 'depression,', 'thoughts about suicide or hurting yourself,'], 'Dosage': \"The recommended dosage of Vivitrol is 380 mg taken once a month. Vivitrol must be administered under a doctor's supervision.\"}\n",
      "{'Medicine Name': 'Namenda', 'Use': \"Namenda (memantine hydrochloride) is an orally active NMDA receptor antagonist used to treat moderate to severe Alzheimer's type dementia.\", 'Side Effects': ['severe headache,', 'blurred vision,', 'pounding in your neck or years,', 'convulsions (seizure), and', 'unusual changes in mood or behavior', 'tiredness, '], 'Dosage': 'The recommended starting dose of Namenda is 5 mg once daily. The recommended target dose is 20 mg/day. Dosage is increased in 5 mg increments to 10 mg/day (5 mg twice a day), 15 mg/day (5 mg and 10 mg as separate doses), and 20 mg/day (10 mg twice a day). The minimum recommended interval between dose increases is one week.'}\n",
      "{'Medicine Name': 'Namenda XR', 'Use': \"Namenda XR (memantine hydrochloride) Extended Release is an NMDA receptor antagonist used to treat moderate to severe dementia of the Alzheimer's type.\", 'Side Effects': ['nausea, ', 'vomiting, ', 'diarrhea, ', 'constipation, ', 'loss of appetite, ', 'dizziness, '], 'Dosage': 'The recommended starting dose of Namenda XR is 7 mg once daily. The dose should be increased in 7 mg increments to a target maximum dose of 28 mg once daily. The minimum recommended interval between dose increases is one week, and only if the previous dose has been well tolerated.'}\n",
      "{'Medicine Name': 'Namzaric', 'Use': \"Namzaric (memantine hydrochloride extended-release and donepezil hydrochloride) is a combination of an orally active NMDA receptor antagonist, and a reversible inhibitor of the enzyme acetylcholinesterase, used to treat moderate to severe dementia of the Alzheimer's type in patients stabilized on memantine hydrochloride and donepezil hydrochloride.\", 'Side Effects': ['hives,', 'difficulty breathing,', 'swelling of your face, lips, tongue, or throat,', 'severe or ongoing vomiting,', 'lightheadedness,', 'slow heartbeats,'], 'Dosage': 'Patients stabilized on memantine hydrochloride and donepezil hydrochloride can be switched to Namzaric 28 mg/10 mg, taken once a day in the evening.'}\n",
      "{'Medicine Name': 'Naphcon A', 'Use': 'Naphcon A (naphazoline hydrochloride and pheniramine maleate) is a combination of a decongestant/redness reliever and an antihistamine used for the temporary relief of redness and itching of the eye(s) due to ragweed pollen, grass, and animal dander and hair. Naphcon A is available over-the-counter (OTC).', 'Side Effects': ['hives,', 'difficulty breathing,', 'swelling of your face, lips, tongue, or throat,', 'ongoing or worsening eye redness,', 'eye pain, and', 'changes in your vision'], 'Dosage': 'The dose of Naphcon A for adults and children 6 years and over is 1 or 2 drops in the affected eye(s) up to 4 times daily.'}\n",
      "{'Medicine Name': 'Naphcon A', 'Use': 'Naphcon A (naphazoline hydrochloride and pheniramine maleate) is a combination of a decongestant/redness reliever and an antihistamine used for the temporary relief of redness and itching of the eye(s) due to ragweed pollen, grass, and animal dander and hair. Naphcon A is available over-the-counter (OTC).', 'Side Effects': ['hives,', 'difficulty breathing,', 'swelling of your face, lips, tongue, or throat,', 'ongoing or worsening eye redness,', 'eye pain, and', 'changes in your vision'], 'Dosage': 'The dose of Naphcon A for adults and children 6 years and over is 1 or 2 drops in the affected eye(s) up to 4 times daily.'}\n",
      "{'Medicine Name': 'Naprelan', 'Use': 'Naprelan (naproxen sodium) is a nonsteroidal anti-inflammatory drug (NSAID) used to treat rheumatoid arthritis, osteoarthritis, ankylosing spondylitis, tendinitis, bursitis and acute gout. Naprelan is also used in the relief of mild to moderate pain and the treatment of primary dysmenorrhea.', 'Side Effects': ['headache, ', 'flu-like symptoms, ', 'upset stomach, ', 'indigestion/heartburn, ', 'nausea, ', 'vomiting, '], 'Dosage': 'The recommended starting dose of Naprelan in adults depends on the condition being treated, but ranges from two 375 mg tablets (750 mg) once daily, or two 500 mg tablets (1000 mg) once a daily.'}\n",
      "{'Medicine Name': 'Naprosyn', 'Use': 'Naprosyn (naproxen; other brand names: EC-Naprosyn and Anaprox/Anaprox DS), is a proprionic acid derivative and is considered a nonsteroidal anti-inflammatory drug (NSAID) and is used for pain management for many diseases, including:', 'Side Effects': ['arthritic diseases, and', 'inflammatory diseases such as:', 'tendonitis,', 'bursitis, and', 'gout', 'heartburn, '], 'Dosage': 'Naprosyn is available in several doses and drug configurations:'}\n",
      "{'Medicine Name': 'Naprosyn', 'Use': 'Naprosyn (naproxen; other brand names: EC-Naprosyn and Anaprox/Anaprox DS), is a proprionic acid derivative and is considered a nonsteroidal anti-inflammatory drug (NSAID) and is used for pain management for many diseases, including:', 'Side Effects': ['arthritic diseases, and', 'inflammatory diseases such as:', 'tendonitis,', 'bursitis, and', 'gout', 'heartburn, '], 'Dosage': 'Naprosyn is available in several doses and drug configurations:'}\n",
      "{'Medicine Name': 'Vimovo', 'Use': 'Vimovo (naproxen and esomeprazole magnesium) is a combination of a nonsteroidal anti-inflammatory drug (NSAID) and a proton pump inhibitor (PPI) used to treat signs and symptoms of rheumatoid arthritis, osteoarthritis, and ankylosing spondylitis when there is a high risk for stomach bleeding/ulcer.', 'Side Effects': ['upset stomach, ', 'stomach pain, ', 'heartburn, ', 'nausea, ', 'gas, ', 'diarrhea, '], 'Dosage': 'The dosage of Vimovo is one tablet twice daily, 375 mg naproxen/20 mg esomeprazole or 500 mg naproxen/20 mg esomeprazole.'}\n",
      "{'Medicine Name': 'Naprelan', 'Use': 'Naprelan (naproxen sodium) is a nonsteroidal anti-inflammatory drug (NSAID) used to treat rheumatoid arthritis, osteoarthritis, ankylosing spondylitis, tendinitis, bursitis and acute gout. Naprelan is also used in the relief of mild to moderate pain and the treatment of primary dysmenorrhea.', 'Side Effects': ['headache, ', 'flu-like symptoms, ', 'upset stomach, ', 'indigestion/heartburn, ', 'nausea, ', 'vomiting, '], 'Dosage': 'The recommended starting dose of Naprelan in adults depends on the condition being treated, but ranges from two 375 mg tablets (750 mg) once daily, or two 500 mg tablets (1000 mg) once a daily.'}\n",
      "{'Medicine Name': 'Amerge', 'Use': 'Amerge (naratriptan) is a headache medicine used to treat migraine headaches. Amerge will only treat a headache that has already begun. Amerge will not prevent headaches or reduce the number of attacks. Amerge is available in generic form.', 'Side Effects': ['hives,', 'difficulty breathing,', 'swelling of your face, lips, tongue, or throat,', 'fast or pounding heartbeats,', 'numbness or tinging in your fingers or toes,', 'pale or blue-colored appearance in your fingers or toes,'], 'Dosage': 'The adult dose of Amerge is 1 mg or 2.5 mg tablets taken with fluid. The dose may be repeated once after 4 hours, for a maximum dose of 5 mg in a 24-hour period.'}\n",
      "{'Medicine Name': 'Naratriptan', 'Use': 'Naratriptan is a serotonin (5-HT 1B/1D) receptor agonist (triptan) used to treat acute migraine with or without aura in adults.', 'Side Effects': ['numbness and tingling,', 'nausea,', 'dizziness,', 'drowsiness,', 'feeling unwell (malaise),', 'fatigue, and'], 'Dosage': 'The recommended dose of naratriptan is 1 mg or 2.5 mg. The dose may be repeated after 4 hours if needed. Do not exceed 5 mg in any 24-hour period.'}\n",
      "{'Medicine Name': 'Naratriptan', 'Use': 'Naratriptan is a serotonin (5-HT 1B/1D) receptor agonist (triptan) used to treat acute migraine with or without aura in adults.', 'Side Effects': ['numbness and tingling,', 'nausea,', 'dizziness,', 'drowsiness,', 'feeling unwell (malaise),', 'fatigue, and'], 'Dosage': 'The recommended dose of naratriptan is 1 mg or 2.5 mg. The dose may be repeated after 4 hours if needed. Do not exceed 5 mg in any 24-hour period.'}\n",
      "{'Medicine Name': 'Narcan', 'Use': 'Narcan (naloxone) is an opioid antagonist used for the complete or partial reversal of opioid overdose, including respiratory depression. Narcan is also used for diagnosis of suspected or known acute opioid overdose and also for blood pressure support in septic shock. Narcan is available in generic form.', 'Side Effects': ['hives,', 'difficulty breathing, and', 'swelling of your face, lips, tongue or throat', 'flushing, ', 'dizziness, ', 'tiredness, '], 'Dosage': 'Narcan is available as a sterile solution for intravenous, intramuscular, and subcutaneous administration in three strengths: 0.02, 0.4 and 1 mg of naloxone hydrochloride per mL in sterile solution; the 0.4 and 1 mg doses are also available in multidose vials. Use in neonates and other pediatric patients is based on weight (usually 0.01 mg per Kg) and may be adjusted; a pediatric consultant may help manages such patients. Opioid withdrawal syndrome may occur in some patients given large doses of Narcan.'}\n",
      "{'Medicine Name': 'Narcan Nasal', 'Use': 'Narcan (naloxone hydrochloride) Nasal Spray is an opioid antagonist indicated for the emergency treatment of known or suspected opioid overdose, as manifested by respiratory and/or central nervous system depression. Narcan Nasal Spray is intended for immediate administration as emergency therapy in settings where opioids may be present.', 'Side Effects': ['hives,', 'difficulty breathing,', 'swelling of your face, lips, tongue, or throat,', 'body aches,', 'fever,', 'sweating,'], 'Dosage': 'The dose of Narcan Nasal Spray is 4 mg of naloxone hydrochloride in 0.1 mL nasal spray.'}\n",
      "{'Medicine Name': 'Nardil', 'Use': 'Nardil (phenelzine) is a monoamine oxidase inhibitor (MAOI), a type of antidepressant, used to treat symptoms of depression that may include feelings of sadness, fear, anxiety, or worry about physical health (hypochondria). Nardil is usually given after other anti-depressants have been tried without successful treatment of symptoms. Nardil is not for treating severe depression or bipolar disorder (manic depression). Nardil is available in generic form.', 'Side Effects': ['dizziness, ', 'drowsiness, ', 'tiredness, ', 'weakness, ', 'problems sleeping (insomnia), ', 'constipation, '], 'Dosage': 'The usual starting dose of Nardil is one tablet (15 mg) three times a day. Dosage should be increased to at least 60 mg per day at a fairly rapid pace consistent with patient tolerance.'}\n",
      "{'Medicine Name': 'Naropin', 'Use': 'Naropin (ropivacaine hcl) is used as a local (in only one area) anesthesia for a spinal block, also called an epidural. Naropin is used to provide anesthesia during a surgery or C-section, or to ease labor pains.', 'Side Effects': ['nausea, ', 'vomiting, ', 'headache, ', 'back pain, ', 'fever, ', 'itching, '], 'Dosage': 'The dose of Naropin depends on many factors, including the procedure being performed, the area to be numbed, the vascularity of the tissues, the number of neuronal segments to be blocked, the depth of anesthesia and degree of muscle relaxation required, the duration of anesthesia desired, individual tolerance, and the physical condition of the patient.'}\n",
      "{'Medicine Name': 'Nasacort AQ', 'Use': 'Nasacort AQ (triamcinolone acetonide) Nasal Spray is a nasal (for the nose) steroid used to treat sneezing, itching, and runny nose caused by seasonal allergies or hay fever. Nasacort AQ is available in generic form.', 'Side Effects': ['fever,', 'chills,', 'body aches,', 'flu symptoms,', 'nosebleeds,', 'blurry vision,'], 'Dosage': '\\nfever,\\nchills,\\nbody aches,\\nflu symptoms,\\nnosebleeds,\\nblurry vision,\\ntunnel vision,\\neye pain, and\\nseeing halos around lights\\n'}\n",
      "{'Medicine Name': 'Nasalcrom', 'Use': 'Nasalcrom (cromolyn sodium) Nasal Spray is an anti-inflammatory medication used to prevent allergy symptoms such as runny nose, stuffy nose, sneezing, itching, and post-nasal drip.', 'Side Effects': ['brief burning or stinging inside the nose, or ', 'sneezing right after use. ', 'severe burning, stinging, or irritation in your nose; ', 'nosebleeds, sinus pain, or sores in your nose; ', 'wheezing, tight feeling in your chest; ', 'fever, or green or yellow mucus from the nose.'], 'Dosage': 'The dose of Nasalcrom is 1 spray in each nostril, usually every 4 to 6 hours (3 to 4 times a day) or as directed by your doctor. Do not use more than 6 times a day.'}\n",
      "{'Medicine Name': 'Nasalide', 'Use': 'Nasalide (flunisolide) nasal spray is a corticosteroid used to prevent and treat seasonal and year-round allergy symptoms (such as stuffy/runny nose, itchy eyes/nose/throat, sneezing). The brand name Nasalide is discontinued, but generic versions may be available.', 'Side Effects': ['hives,', 'difficulty breathing,', 'swelling of your face, lips, tongue, or throat,', 'loss of taste or smell, and', 'pain or sores in your nose', 'temporary nose/throat dryness or irritation,'], 'Dosage': 'For adults, the recommended starting dose of Nasarel is 2 sprays (58 mcg) in each nostril 2 times a day (total dose 232 mcg/day).'}\n",
      "{'Medicine Name': 'Nascobal', 'Use': 'Nascobal Nasal Spray (cyanocobalamin) is a man-made form of vitamin B12 used to treat vitamin B12 deficiency in people with pernicious anemia and other conditions.', 'Side Effects': ['headache,', 'nausea,', 'upset stomach,', 'diarrhea,', 'runny nose,', 'sneezing,'], 'Dosage': 'The recommended initial dose of Nascobal Nasal Spray is one spray (500 mcg) administered in ONE nostril once weekly.'}\n",
      "{'Medicine Name': 'Nasonex', 'Use': 'Nasonex (mometasone furoate monohydrate) Nasal Spray is a steroid used to treat nasal symptoms such as congestion, sneezing, and runny nose caused by seasonal or year-round allergies. Nasonex Nasal Spray is also used to treat nasal polyps in adults.', 'Side Effects': ['headache, ', 'stuffy nose, ', 'sore throat, ', 'cough, ', 'muscle or joint pain, ', 'nausea, '], 'Dosage': 'The recommended dose of Nasonex for adults and children 12 years and older for treatment or prevention of the nasal symptoms of seasonal allergic and perennial allergic rhinitis, or nasal congestion associated with seasonal allergic rhinitis is 2 sprays in each nostril once daily (total daily dose of 200 mcg). The pediatric dose for children 2-11 years is one spray in each nostril once daily (100 mcg). To treat nasal polyps in adults, the dose is 2 sprays in each nostril twice daily (400 mcg). Two sprays in each nostril once daily (200 mcg) is effective in some patients.'}\n",
      "{'Medicine Name': 'Natacyn', 'Use': 'Natacyn (natamycin ophthalmic suspension) is an antifungal medication used to treat fungal infections of the eyes.', 'Side Effects': ['hives,', 'difficulty breathing,', 'swelling of your face, lips, tongue, or throat,', 'vision changes,', 'eye redness or irritation,', 'swelling of the eye,'], 'Dosage': 'The preferred initial dosage in fungal keratitis is one drop of Natacyn 5% instilled in the conjunctival sac at hourly or two-hourly intervals. The frequency of application can usually be reduced to one drop 6 to 8 times daily after the first 3 to 4 days. Therapy should generally be continued for 14 to 21 days or until there is resolution of active fungal keratitis.'}\n",
      "{'Medicine Name': 'Tysabri', 'Use': \"Tysabri (natalizumab) is a monoclonal antibody used in to treat relapsing forms of multiple sclerosis. Tysabri is also used to treat moderate to severe Crohn's disease in adults. Tysabri is usually given after other Crohn's disease medications have been tried without successful treatment of this condition.\", 'Side Effects': ['hives,', 'difficulty breathing,', 'swelling of your face, lips, tongue, or throat,', 'wheezing,', 'dizziness,', 'nausea,'], 'Dosage': \"The recommended dose of Tysabri for multiple sclerosis or Crohn's disease is 300 mg intravenous infusion over one hour every four weeks.\"}\n",
      "{'Medicine Name': 'Tyruko', 'Use': 'Tyruko (natalizumab-sztn) is an integrin receptor antagonist indicated as monotherapy for the treatment of relapsing forms of multiple sclerosis (MS), to include clinically isolated syndrome, relapsing-remitting disease, and active secondary progressive disease, in adults. Tyruko is also indicated for inducing and maintaining clinical response and remission in adult patients with moderately to severely active Crohn’s disease with evidence of inflammation who have had an inadequate response to, or are unable to tolerate, conventional CD therapies and inhibitors of TNF-α.', 'Side Effects': ['headache,', 'fatigue,', 'arthralgia,', 'urinary tract infection (UTI),', 'upper or lower respiratory tract infection,', 'gastroenteritis,'], 'Dosage': 'The dose of Tyruko is 300 mg infused intravenously over one hour, every four weeks.'}\n",
      "{'Medicine Name': 'Natacyn', 'Use': 'Natacyn (natamycin ophthalmic suspension) is an antifungal medication used to treat fungal infections of the eyes.', 'Side Effects': ['hives,', 'difficulty breathing,', 'swelling of your face, lips, tongue, or throat,', 'vision changes,', 'eye redness or irritation,', 'swelling of the eye,'], 'Dosage': 'The preferred initial dosage in fungal keratitis is one drop of Natacyn 5% instilled in the conjunctival sac at hourly or two-hourly intervals. The frequency of application can usually be reduced to one drop 6 to 8 times daily after the first 3 to 4 days. Therapy should generally be continued for 14 to 21 days or until there is resolution of active fungal keratitis.'}\n",
      "{'Medicine Name': 'Natazia', 'Use': 'Natazia (estradiol valerate and estradiol valerate/dienogest) is an oral contraceptive used to prevent pregnancy.', 'Side Effects': ['hives,', 'difficulty breathing,', 'swelling of your face, lips, tongue, or throat,', 'sudden numbness or weakness (especially on one side of the body),', 'sudden severe headache,', 'slurred speech,'], 'Dosage': 'Natazia must be taken exactly as directed. Take one tablet by mouth at the same time every day. Tablets must be taken in the order directed on the blister pack. Tablets should not be skipped or intake delayed by more than 12 hours.'}\n",
      "{'Medicine Name': 'Starlix', 'Use': 'Starlix (nateglinide) is an oral diabetes medicine used together with diet and exercise to treat type 2 (non-insulin dependent) diabetes. Other diabetes medicines are sometimes used in combination with Starlix if needed. Starlix is available in generic form.', 'Side Effects': ['hives,', 'difficulty breathing,', 'swelling of your face, lips, tongue, or throat,', 'seizure, and', 'yellowing of the skin or eyes (jaundice)', 'weight gain, '], 'Dosage': 'The recommended starting and maintenance dose of Starlix, alone or in combination with metformin or a thiazolidinedione, is 120 mg three times daily before meals.'}\n",
      "{'Medicine Name': 'Natesto', 'Use': 'Natesto (testosterone) nasal gel is testosterone, an androgen, used for replacement therapy in adult males for conditions associated with a deficiency or absence of endogenous testosterone, including primary or hypogonadotropic hypogonadism (congenital or acquired).', 'Side Effects': [], 'Dosage': 'The recommended dose of Natesto is 11 mg of testosterone (2 pump actuations; 1 actuation per nostril) administered intranasally three times daily for a total daily dose of 33 mg.'}\n",
      "{'Medicine Name': 'Natpara', 'Use': 'Natpara (parathyroid hormone) for Injection is a parathyroid hormone used as an adjunct to calcium and vitamin D to control hypocalcemia in patients with hypoparathyroidism.', 'Side Effects': ['tingling/burning/prickling sensation of your skin', 'high or low blood calcium levels', 'headache', 'nausea', 'reduced sensitivity to sensory stimuli or reduced sense of touch', 'diarrhea'], 'Dosage': 'The recommended Natpara dose is the minimum dose required to prevent both hypocalcemia and hypercalciuria.'}\n",
      "{'Medicine Name': 'Natrecor', 'Use': 'Natrecor (nesiritide) is a vasodilator of the human B-type natriuretic peptide type that works by lowering blood pressure indicated for the treatment of patients with acutely decompensated heart failure who have difficulty breathing (dyspnea) at rest or with minimal activity.', 'Side Effects': ['hives,', 'difficulty breathing,', 'swelling of your face, lips, tongue, or throat,', 'confusion,', 'lightheadedness,', 'fainting,'], 'Dosage': 'The recommended dose of Natrecor is an IV bolus of 2 mcg/kg followed by a continuous infusion of 0.01 mcg/kg/min.'}\n",
      "{'Medicine Name': 'Natroba', 'Use': 'Natroba (spinosad) Topical Suspension is a pediculicide used for the topical treatment of head lice infestation in patients six (6) months of age and older.', 'Side Effects': ['redness or irritation at the application site or in the eyes', 'application site dryness', 'application site skin peeling', 'hair loss, and ', 'dry skin'], 'Dosage': 'Apply sufficient Natroba Topical Suspension to cover dry scalp, then apply to dry hair. Depending on hair length, apply up to a 120 mL (one bottle) dose to adequately cover scalp and hair. Leave on for 10 minutes, then thoroughly rinse off with warm water. If live lice are seen 7 days after the first treatment, a second treatment should be applied.'}\n",
      "{'Medicine Name': 'Nature-Throid', 'Use': \"Nature-Throid (thyroid) Tablets is a natural product made from porcine (pig) thyroid glands indicated as replacement of supplemental therapy in patients with hypothyroidism of any etiology, except transient hypothyroidism during the recovery phase of subacute thyroiditis; as pituitary TSH suppressants, in the treatment or prevention of various types of euthyroid goiters, including thyroid nodules, subacute, or chronic lymphocytic thyroiditis (Hashimoto's), multinodular goiter, and in the management of thyroid cancer; and as diagnostic agents in suppression tests to differentiate suspected mild hyperthyroidism or thyroid gland anatomy. Side effects of Nature-Throid are rare and are usually related to therapeutic overdose.\", 'Side Effects': ['chest pain, ', 'increased pulse rate, ', 'palpitations, ', 'excessive sweating, ', 'heat intolerance, or ', 'nervousness. '], 'Dosage': 'The dosage of Nature-Throid is determined by the indication and must in every case be individualized according to patient response and laboratory findings.'}\n",
      "{'Medicine Name': 'Navane', 'Use': 'Navane (thiothixene hcl) is an antipsychotic medication used to treat schizophrenia. Navane is available in generic form.', 'Side Effects': ['hives,', 'difficulty breathing,', 'swelling of your face, lips, tongue, or throat,', 'uncontrolled muscle movements in your face (chewing, lip smacking, frowning, tongue movement, blinking or eye movement),', 'stiffness in your neck,', 'tightness in your throat,'], 'Dosage': 'In milder conditions, an initial dose of 2 mg of Navane three times daily is recommended. If indicated, an increase to 15 mg/day total daily dose may be effective. In severe conditions, an initial dose of 5 mg twice daily is recommended. The usual optimal dose is 20 to 30 mg daily.'}\n",
      "{'Medicine Name': 'Navelbine', 'Use': 'Navelbine (vinorelbine tartrate) is a cancer medication used to treat non-small cell lung cancer, and is sometimes used in combination with other cancer medications. Navelbine is available in generic form.', 'Side Effects': ['nausea, ', 'vomiting, ', 'fatigue, ', 'tiredness, ', 'weakness, ', 'constipation, '], 'Dosage': 'The usual initial dose of Navelbine when used alone is 30 mg/m2 administered weekly by intravenous injection over 6 to 10 minutes.'}\n",
      "{'Medicine Name': 'Navstel', 'Use': 'Navstel (balanced salt ophthalmic solution) is a sterile intraocular irrigating solution for use during ophthalmic surgical procedures, involving perfusion of the eye (e.g. vitrectomy and anterior segment reconstruction).', 'Side Effects': ['eye discomfort', 'blurred vision', 'dry eye', 'eye swelling', 'eye redness', 'other eye problems, and '], 'Dosage': 'Dosing of Navstel is determined by a physician.'}\n",
      "{'Medicine Name': 'Danyelza', 'Use': 'Danyelza (naxitamab-gqgk) is a GD2-binding monoclonal antibody indicated, in combination with granulocyte-macrophage colony-stimulating factor (GM-CSF), to treat pediatric patients 1 year of age and older and adult patients with relapsed or refractory high-risk neuroblastoma in the bone or bone marrow who have demonstrated a partial response, minor response, or stable disease to prior therapy.', 'Side Effects': ['infusion-related reactions occurring on the day of infusion or the day following an infusion (low blood pressure, bronchospasm, flushing, wheezing, stridor, hives, shortness of breath, fever, swelling of the face/lips/tongue, respiratory tract edema, chills, low blood oxygen, itching, and rash)', 'pain (abdominal pain, pain in extremity, bone pain, neck pain, back pain, and musculoskeletal pain),', 'fast heart rate,', 'vomiting,', 'cough,', 'nausea,'], 'Dosage': 'The recommended dosage of Danyelza is 3 mg/kg/day (up to 150 mg/day), administered as an intravenous infusion after dilution on Days 1, 3, and 5 of each treatment cycle. Treatment cycles are repeated every 4 weeks until complete response or partial response, followed by 5 additional cycles every 4 weeks. Subsequent cycles may be repeated every 8 weeks.'}\n",
      "{'Medicine Name': 'Nayzilam', 'Use': \"Nayzilam (midazolam) is a benzodiazepine indicated for the acute treatment of intermittent, stereotypic episodes of frequent seizure activity (i.e., seizure clusters, acute repetitive seizures) that are distinct from a patient's usual seizure pattern in patients with epilepsy 12 years of age and older.\", 'Side Effects': ['hives,', 'difficulty breathing,', 'swelling of your face, lips, tongue, or throat,', 'seizure,', 'bipolar disorder,', 'pain,'], 'Dosage': 'The initial dose of Nayzilam is one spray (5 mg dose) administered into one nostril. A second dose of one additional spray (5 mg dose) Nayzilam may be administered into the opposite nostril after 10 minutes if the patient has not responded to the initial dose.'}\n",
      "87\n",
      "{'Medicine Name': 'Nebivolol', 'Use': 'Nebivolol hydrochloride is a beta-adrenergic blocking agent indicated for the treatment of high blood pressure (hypertension), to lower blood pressure. Lowering blood pressure reduces the risk of fatal and nonfatal cardiovascular events, primarily strokes and heart attacks (myocardial infarctions).', 'Side Effects': ['headache,', 'fatigue,', 'dizziness,', 'diarrhea,', 'nausea,', 'swelling of extremities, and'], 'Dosage': 'Most patients start at 5 mg of nebivolol hydrochloride once daily, with or without food, as monotherapy or in combination with other agents. The dose of nebivolol hydrochloride can be increased at 2-week intervals up to 40 mg.'}\n",
      "{'Medicine Name': 'Byvalson', 'Use': 'Byvalson (nebivolol and valsartan) is a beta adrenergic blocker and an angiotensin II receptor blocker (ARB) indicated for the treatment of hypertension (high blood pressure), to lower blood pressure.', 'Side Effects': ['hives,', 'difficulty breathing,', 'swelling of your face, lips, tongue, or throat,', 'stomach pain,', 'vomiting,', 'lightheadedness,'], 'Dosage': 'As initial therapy and in patients not adequately controlled on valsartan 80 mg or nebivolol up to and including 10 mg, the recommended dose of Byvalson is 5 mg/80 mg taken orally once daily.'}\n",
      "{'Medicine Name': 'Bystolic Tablets', 'Use': 'Bystolic (nebivolol) is a beta-blocker indicated for the treatment of high blood pressure (hypertension).', 'Side Effects': ['lightheadedness,', 'rapid weight gain,', 'shortness of breath,', 'slow or uneven heartbeats, and', 'numbness or cold feeling in your hands or feet', 'headache, '], 'Dosage': ' The dose of Bystolic is individualized to the needs of the patient. For most patients, the recommended starting dose of Bystolic is 5 mg once daily, with or without food, as monotherapy or in combination with other agents.'}\n",
      "{'Medicine Name': 'Nebupent', 'Use': 'NebuPent (pentamidine isethionate) is an antibiotic used to prevent and treat serious infections such as Pneumocystis pneumonia (PCP), often seen in people with acquired immunodeficiency syndrome (AIDS).', 'Side Effects': ['hives,', 'difficulty breathing,', 'swelling of your face, lips, tongue, or throat,', 'wheezing,', 'choking,', 'other breathing problems after using the medication,'], 'Dosage': 'The recommended adult dosage of NebuPent for the prevention of Pneumocystis pneumonia is 300 mg once every four weeks administered via the Respirgard II nebulizer.'}\n",
      "{'Medicine Name': 'Portrazza', 'Use': '', 'Side Effects': ['rash,', 'low blood levels of magnesium (which can cause muscular weakness, seizure, and irregular heartbeats and can be fatal),', 'acne,', 'itching,', 'dry skin, ', 'vomiting, '], 'Dosage': 'N/A'}\n",
      "{'Medicine Name': 'Necon', 'Use': 'Necon (norethindrone and ethinyl estradiol) contains a combination of female hormones that prevent ovulation used as contraception to prevent pregnancy. Necon is also used to treat severe acne. Necon is available in generic form.', 'Side Effects': ['nausea (especially when you first start using Necon), ', 'vomiting, ', 'headache, ', 'stomach cramping, ', 'bloating, ', 'dizziness, '], 'Dosage': 'Necon is a 28-day regimen of tablets, 21 have active medication (hormones) and 7 are inert reminder pills. Take one active pill once daily for 21 days in a row, and then an inactive pill once daily for 7 days after you have taken the last active pill. Follow the schedule as prescribed by your doctor.'}\n",
      "{'Medicine Name': 'Alocril', 'Use': 'Alocril (nedocromil) ophthalmic solution is a mast cell stabilizer, which is an anti-allergic medication, used to treat ocular (eye) symptoms of allergic conditions, such as inflammation, itching, watering, and burning.', 'Side Effects': ['hives,', 'difficulty breathing,', 'swelling of your face, lips, tongue, or throat, and', 'severe burning, stinging, or irritation after using the medicine', 'burning/stinging/irritation of the eye', 'itchy eyes'], 'Dosage': 'The recommended dosage is one or two drops in each eye twice a day. Alocril ophthalmic solution should be used at regular intervals.'}\n",
      "{'Medicine Name': 'Tilade', 'Use': 'Tilade (nedocromil inhalation) is an inhaled anti-inflammatory agent used alone or with other medications to prevent symptoms (wheezing, cough, and shortness of breath) caused by asthma.', 'Side Effects': ['dry mouth,', 'unpleasant taste,', 'itchy skin,', 'mild nausea,', 'cough,', 'nausea,'], 'Dosage': 'The dose of Tilade is two inhalations four times a day at regular intervals, which provides a dose of 14 mg per day. Tilade should be orally inhaled only in patients age 6 years and older.'}\n",
      "{'Medicine Name': 'Serzone', 'Use': 'Serzone (nefazodone hydrochloride) is an antidepressant used to treat depression. The brand name of Serzone is discontinued, but generic versions may be available.', 'Side Effects': ['hives,', 'difficulty breathing,', 'swelling of your face, lips, tongue, or throat,', 'confusion,', 'weakness,', 'fainting,'], 'Dosage': 'The recommended starting dose for Serzone is 200 mg/day, administered in two divided doses.'}\n",
      "{'Medicine Name': 'Neggram', 'Use': 'NegGram (nalidixic acid) Oral Suspension is a quinolone antibiotic used to treat urinary tract infections. NegGram is available in generic form.', 'Side Effects': ['drowsiness, ', 'weakness, ', 'headache, ', 'dizziness, ', 'spinning sensation (vertigo), ', 'abdominal pain, '], 'Dosage': 'The recommended dosage of NegGram is 1 gram taken four times a day for one or two weeks, and 2 grams per day thereafter.'}\n",
      "{'Medicine Name': 'Neggram Caplets', 'Use': 'NegGram (nalidixic acid) is a quinolone antibiotic used to treat urinary tract infections. NegGram is available in generic form.', 'Side Effects': ['drowsiness, ', 'weakness, ', 'headache, ', 'dizziness, ', 'spinning sensation (vertigo), ', 'abdominal pain, '], 'Dosage': 'The recommended dosage of NegGram is 1 gram taken four times a day for one or two weeks, and 2 grams per day thereafter.'}\n",
      "{'Medicine Name': 'Arranon', 'Use': 'Arranon (nelarabine) is a chemotherapy drug used to treat T-cell acute lymphoblastic leukemia and T-cell lymphoblastic lymphoma.', 'Side Effects': ['hives,', 'difficulty breathing,', 'swelling of your face, lips, tongue, or throat,', 'extreme drowsiness,', 'loss of balance or coordination,', 'problems walking,'], 'Dosage': 'The recommended adult dose of Arranon is 1,500 mg/m² administered intravenously over 2 hours on days 1, 3, and 5 repeated every 21 days.'}\n",
      "{'Medicine Name': 'Viracept', 'Use': 'Viracept (nelfinavir mesylate) is a type of antiviral medication called a protease inhibitor used to treat HIV, which causes acquired immunodeficiency syndrome (AIDS). Viracept is not a cure for HIV or AIDS.', 'Side Effects': ['hives,', 'difficulty breathing,', 'swelling of your face, lips, tongue, or throat,', 'easy bruising,', 'unusual bleeding (nose, mouth, vagina, or rectum),', 'purple or red pinpoint sports under your skin,'], 'Dosage': 'The recommended adult and adolescent dose of Viracept is 1250 mg (five 250 mg tablets or two 625 mg tablets) twice daily or 750 mg (three 250 mg tablets) three times daily. In children 2 to 13 years of age, the recommended dose of Viracept Oral Powder or 250 mg tablets is 45 to 55 mg/kg twice daily or 25 to 35 mg/kg three times daily.'}\n",
      "{'Medicine Name': 'Nembutal', 'Use': 'Nembutal (pentobarbital sodium) is a barbiturate that acts as a depressant, or sedative, used short-term to treat insomnia. Nembutal is also used as an emergency treatment for seizures, and to cause patients to fall asleep for surgery. Nembutal is available in generic form.', 'Side Effects': ['problems with memory or concentration, ', 'excitement, ', 'irritability, ', 'aggression (especially in children or older adults), ', 'confusion, ', 'loss of balance or coordination, '], 'Dosage': \"Dosage of Nembutal is determined by the patient's age, weight, and condition.\"}\n",
      "{'Medicine Name': 'Neo-Fradin', 'Use': ' Neo-Fradin (neomycin sulfate) Oral Solution is an antibiotic used as adjunctive therapy in hepatic coma by reduction of the ammonia forming bacteria in the intestinal tract.', 'Side Effects': ['hives,', 'difficulty breathing,', 'swelling of your face, lips, tongue, or throat,', 'numbness or tingly feeling under your skin,', 'hearing problems (even long after you stop taking the medicine),', 'muscle twitching,'], 'Dosage': 'The recommended dose of Neo-Fradin is 4-12 grams per day, taken in divided doses. Protein should be withdrawn from the diet and the use of diuretic agents should be avoided. Treatment should be continued over a period of five to six days during which time protein should be returned incrementally to the diet.'}\n",
      "{'Medicine Name': 'Neo-Synalar', 'Use': 'Neo-Synalar [neomycin sulfate 0.5% (0.35% neomycin base), fluocinolone acetonide 0.025%] Cream is a combination of an antibiotic and a corticosteroid indicated for the treatment of corticosteroid-responsive dermatoses with secondary infection.', 'Side Effects': ['burning, ', 'abnormal hair growth, ', 'thinning and breakdown of the skin, ', 'itching, ', 'acne, ', 'secondary infection, '], 'Dosage': 'Neo-Synalar cream is generally applied to the affected area as a thin film dose from two to four times daily depending on the severity of the condition.'}\n",
      "{'Medicine Name': 'Neo-Synephrine', 'Use': 'Neo-Synephrine (phenylephrine hydrochloride ophthalmic solution) is a vasoconstrictor (constricts the veins) and mydriatic (dilates the pupils), and the over-the-counter strength is used to relieve redness, burning, irritation, and dryness of the eye caused by wind, sun, and other minor irritants. Prescription-strength Neo-Synephrine is used to constrict blood vessels in the eye and to dilate (make bigger) the pupil for conditions such as glaucoma, before surgery, and before eye examinations. Neo-Synephrine is available in generic form.', 'Side Effects': ['burning,', 'stinging,', 'pain,', 'increased redness of the eye,', 'tearing or blurred vision,', 'headache,'], 'Dosage': 'The dose of Neo-Synephrine depends on the condition being treated.'}\n",
      "{'Medicine Name': 'Neodecadron', 'Use': 'Neodecadron (neomycin sulfate-dexamethasone sodium phosphate) Sterile Ophthalmic Solution is a topical corticosteroid-antibiotic used to treat bacterial infections of the eyes. The brand name Neodecadron is discontinued, but generic versions may be available.', 'Side Effects': ['some eye reactions when drops are instilled (burning, stinging, irritation, itching, redness, blurred vision)', ' eyelid itching', ' eyelid swelling, or', ' sensitivity to light'], 'Dosage': 'Instill one or two drops of Neodecadron Ophthalmic Solution into the conjunctival sac every hour during the day and every two hours during the night as initial therapy. When a favorable response is observed, reduce dosage to one drop every four hours.'}\n",
      "{'Medicine Name': 'Neodecadron', 'Use': 'Neodecadron (neomycin sulfate-dexamethasone sodium phosphate) Sterile Ophthalmic Solution is a topical corticosteroid-antibiotic used to treat bacterial infections of the eyes. The brand name Neodecadron is discontinued, but generic versions may be available.', 'Side Effects': ['some eye reactions when drops are instilled (burning, stinging, irritation, itching, redness, blurred vision)', ' eyelid itching', ' eyelid swelling, or', ' sensitivity to light'], 'Dosage': 'Instill one or two drops of Neodecadron Ophthalmic Solution into the conjunctival sac every hour during the day and every two hours during the night as initial therapy. When a favorable response is observed, reduce dosage to one drop every four hours.'}\n",
      "{'Medicine Name': 'Neo-Synalar', 'Use': 'Neo-Synalar [neomycin sulfate 0.5% (0.35% neomycin base), fluocinolone acetonide 0.025%] Cream is a combination of an antibiotic and a corticosteroid indicated for the treatment of corticosteroid-responsive dermatoses with secondary infection.', 'Side Effects': ['burning, ', 'abnormal hair growth, ', 'thinning and breakdown of the skin, ', 'itching, ', 'acne, ', 'secondary infection, '], 'Dosage': 'Neo-Synalar cream is generally applied to the affected area as a thin film dose from two to four times daily depending on the severity of the condition.'}\n",
      "{'Medicine Name': 'Lumi-Sporyn', 'Use': 'Lumi-Sporyn (neomycin and polymyxin B sulfates and bacitracin zinc ophthalmic ointment) is an antimicrobial ointment used for topical treatment of superficial infections of the external eye and its adnexa caused by susceptible bacteria. Such infections include conjunctivitis, keratitis and keratoconjunctivitis, blepharitis and blepharoconjunctivitis.', 'Side Effects': ['irritation on instillation and', 'allergic sensitization reactions including itching, swelling, and eye redness'], 'Dosage': 'Apply Lumi-Sporyn ointment topically into the conjunctival sac of the affected eye(s) every 3 or 4 hours for 7 to 10 days, depending on the severity of the infection.'}\n",
      "{'Medicine Name': 'Cortisporin Ophthalmic Suspension', 'Use': 'Cortisporin Ophthalmic Suspension (neomycin and polymyxin B sulfates and hydrocortisone) is a combination of two antibiotics and a steroid used to treat bacterial infections of the eyes. Cortisporin Ophthalmic Suspension is available in generic form.', 'Side Effects': [], 'Dosage': 'The recommended dose of Cortisporin Ophthalmic is one or two drops in the affected eye every 3 or 4 hours, depending on the severity of the condition. The suspension may be used more frequently if necessary.'}\n",
      "{'Medicine Name': 'Cortisporin Otic Solution', 'Use': \"Cortisporin Otic Solution (neomycin and polymyxin B sulfates and hydrocortisone otic solution) is a combination of two antibiotics and an anti-inflammatory corticosteroid in an ear drop used to treat outer ear infections caused by bacteria (also known as swimmer's ear). Cortisporin Otic Solution is available in generic form.\", 'Side Effects': ['temporary stinging or burning of the ear for a minute or two when applied. \\n\\t', 'hearing problems (e.g., hearing loss). '], 'Dosage': 'The dose of Cortisporin Otic Solution for adults is four drops instilled into the affected ear 3 or 4 times daily. For infants and children, three drops are suggested.'}\n",
      "{'Medicine Name': 'Cortisporin Otic Suspension', 'Use': \"Cortisporin Otic Suspension (neomycin and polymyxin B sulfates and hydrocortisone) is a combination of two antibiotics and an anti-inflammatory corticosteroid used to treat outer ear infections caused by bacteria (also known as swimmer's ear). Cortisporin Otic Suspension is available in generic form.\", 'Side Effects': ['temporary stinging or burning of the ear for a minute or two when applied. \\n\\t', 'hearing problems (e.g., hearing loss).'], 'Dosage': 'For adults, the dose of Cortisporin Otic Suspension is 4 drops of the suspension instilled into the affected ear 3 or 4 times daily. For infants and children, 3 drops are suggested because of the smaller capacity of the ear canal. Limit use to 10 days. \\n\\n'}\n",
      "{'Medicine Name': 'Cortisporin Ointment', 'Use': 'Cortisporin Ointment (neomycin and polymyxin B sulfates, bacitracin zinc, and hydrocortisone) is a topical (for the skin) combination of antibiotics and a corticosteroid used to treat bacterial skin infections. Cortisporin Ointment will not work for other types of skin infections (e.g., infections caused by fungi, viruses).', 'Side Effects': ['skin burning', 'redness', 'irritation', 'dryness', 'itching', 'stinging'], 'Dosage': 'Apply a thin film dose of Cortisporin Ointment 2 to 4 times daily to the affected area. Therapy with Cortisporin Ointment should be limited to 7 days.'}\n",
      "{'Medicine Name': 'Cortisporin Ophthalmic Ointment', 'Use': 'Cortisporin Ophthalmic Ointment (neomycin and polymyxin B sulfates, bacitracin zinc, and hydrocortisone) is a combination of antibiotics and a steroid used for steroid- responsive inflammatory ocular (eye) conditions for which a corticosteroid is indicated and where bacterial infection or a risk of bacterial infection exists. The brand name Cortisporin Ophthalmic Ointment is discontinued, but generic versions may be available.', 'Side Effects': ['eye itching', 'swelling', 'redness', 'irritation, and ', 'infection'], 'Dosage': 'Apply Cortisporin Ophthalmic Ointment in the affected eye every 3 or 4 hours, depending on the severity of the condition.'}\n",
      "{'Medicine Name': 'Casporyn', 'Use': 'Casporyn HC (neomycin and polymyxin B sulfates and hydrocortisone otic suspension) is an antibacterial and anti-inflammatory suspension used for the treatment of superficial bacterial infections of the external auditory (ear) canal caused by organisms susceptible to the action of the antibiotics, and for the treatment of infections of mastoidectomy and fenestration cavities caused by organisms susceptible to the antibiotics.', 'Side Effects': ['hives,', 'difficulty breathing,', 'swelling of your face, lips, tongue, or throat,', 'hearing problems,', 'ringing in your ears,', 'feeling of fullness in the ears,'], 'Dosage': 'The adult dose of Casporyn HC is 4 drops of the suspension instilled into the affected ear 3 or 4 times daily. For children, 3 drops are suggested because of the smaller capacity of the ear canal.'}\n",
      "{'Medicine Name': 'Neo-Fradin', 'Use': ' Neo-Fradin (neomycin sulfate) Oral Solution is an antibiotic used as adjunctive therapy in hepatic coma by reduction of the ammonia forming bacteria in the intestinal tract.', 'Side Effects': ['hives,', 'difficulty breathing,', 'swelling of your face, lips, tongue, or throat,', 'numbness or tingly feeling under your skin,', 'hearing problems (even long after you stop taking the medicine),', 'muscle twitching,'], 'Dosage': 'The recommended dose of Neo-Fradin is 4-12 grams per day, taken in divided doses. Protein should be withdrawn from the diet and the use of diuretic agents should be avoided. Treatment should be continued over a period of five to six days during which time protein should be returned incrementally to the diet.'}\n",
      "{'Medicine Name': 'Neomycin Sulfate', 'Use': 'Neomycin Sulfate is an antibiotic used to reduce the risk of infection during surgery of the bowel. Neomycin is also used to reduce the symptoms of hepatic coma. Neomycin sulfate is available in generic form.', 'Side Effects': ['nausea, ', 'vomiting, or ', 'diarrhea. ', 'drowsiness, ', 'confusion, ', 'mood changes, '], 'Dosage': 'Neomycin Sulfate dose depends on the condition being treated. The lowest possible dose and the shortest possible treatment period to control the condition should be used to reduce toxicity.'}\n",
      "{'Medicine Name': 'Neosporin-GU', 'Use': 'Neosporin G.U. (neomycin sulfate–polymyxin B sulfate solution for irrigation) is a concentrated sterile antibiotic solution to be diluted for urinary bladder irrigation indicated for short-term use (up to 10 days) as a continuous irrigant or rinse in the urinary bladder of abacteriuric patients to help prevent bacteriuria and gram-negative rod septicemia associated with the use of indwelling catheters. Neosporin G.U. is available in generic form.', 'Side Effects': ['Serious eye symptoms such as sudden vision loss, blurred vision, tunnel vision, eye pain or swelling, or seeing halos around lights;', 'Serious heart symptoms such as fast, irregular, or pounding heartbeats; fluttering in your chest; shortness of breath; and sudden dizziness, lightheartedness, or passing out;', 'Severe headache, confusion, slurred speech, arm or leg weakness, trouble walking, loss of coordination, feeling unsteady, very stiff muscles, high fever, profuse sweating, or tremors.'], 'Dosage': \"For most patients, the inflow rate of the 1,000-mL saline solution of Neosporin G.U. should be adjusted to a slow drip to deliver about 1,000 mL every 24 hours. If the patient's urine output exceeds 2 liters per day, it is recommended that the inflow rate be adjusted to deliver 2,000 mL of the solution in a 24-hour period.\"}\n",
      "{'Medicine Name': 'Neosporin Ophthalmic Ointment', 'Use': 'Neosporin Ophthalmic Ointment (neomycin and polymyxin B sulfates and bacitracin zinc) is a combination of antibiotics used to treat bacterial infections of the eyes. The brand name Neosporin Ophthalmic Ointment is discontinued, but generic versions may be available.', 'Side Effects': ['stinging, burning, irritation, itching, or redness of the eyes for 1 to 2 minutes; \\n\\t', 'temporary blurred vision when this medication is applied, ', 'eyelid itching, ', 'eyelid swelling or crusting, ', 'tearing, or ', 'sensitivity to light. '], 'Dosage': 'Apply Neosporin Ophthalmic Ointment every 3 or 4 hours for 7 to 10 days, depending on the severity of the infection.'}\n",
      "{'Medicine Name': 'Maxitrol', 'Use': 'Maxitrol (neomycin and polymyxin B sulfates and dexamethasone) Ophthalmic Suspension Sterile is a combination of two antibiotics and a steroid used to treat bacterial infections of the eyes. Maxitrol is available in generic form.', 'Side Effects': ['stinging/burning of the eyes for 1 to 2 minutes when Maxitrol is applied,', 'irritation, ', 'itching, ', 'redness, ', 'blurred vision, ', 'eyelid itching, '], 'Dosage': 'Dosing of Maxitrol: One to two drops in the conjunctival sac(s). In severe disease, drops may be used hourly, being tapered to discontinuation as the inflammation subsides. In mild disease, drops may be used up to four to six times daily.'}\n",
      "{'Medicine Name': 'Pediotic', 'Use': 'Pediotic Suspension (neomycin and polymyxin B sulfates and hydrocortisone otic suspension) is a combination of antibiotics and a steroid used to treat ear infections caused by bacteria. Pediotic is available in generic form.', 'Side Effects': [' \\n\\ttemporary stinging or burning of your ear for a minute or two when applied', 'hives,', 'difficulty breathing,', 'swelling of your face, lips, tongue, or throat,', 'sever burning or other irritation after using the ear drops,', 'hearing loss,'], 'Dosage': 'For adults, the dose of Pediotic Suspension is 4 drops instilled into the affected ear 3 or 4 times daily. For infants and children, 3 drops are suggested because of the smaller capacity of the ear canal. Use for 10 consecutive days.'}\n",
      "{'Medicine Name': 'NeoProfen', 'Use': 'NeoProfen (ibuprofen lysine) Injection is a nonsteroidal anti-inflammatory drug (NSAID) used to close a clinically significant patent ductus arteriosus (PDA) in premature infants weighing between 500 and 1500 g, who are no more than 32 weeks gestational age when usual medical management (e.g., fluid restriction, diuretics, respiratory support, etc.) is ineffective.', 'Side Effects': ['hives,', 'difficulty breathing,', 'swelling of your face, lips, tongue, or throat,', 'fever,', 'sore throat,', 'burning eyes,'], 'Dosage': 'A course of therapy of NeoProfen is three doses administered intravenously. An initial dose of 10 mg per kilogram is followed by two doses of 5 mg per kilogram each, after 24 and 48 hours. All doses should be based on birth weight.'}\n",
      "{'Medicine Name': 'Neoral', 'Use': 'Neoral (cyclosporine) is an immunosuppressant used to prevent organ rejection after a kidney, liver, or heart transplant. Neoral is also used to treat severe psoriasis or severe rheumatoid arthritis. Neoral is available in generic form.', 'Side Effects': ['hives,', 'difficulty breathing,', 'swelling of your face, lips, tongue, or throat,', 'problems with speech, thought, vision, or muscle movement,', 'seizure,', 'severe headache,'], 'Dosage': \"Dosing of Neroal is individualized based on the type of transplant, and the patient's weight.\"}\n",
      "{'Medicine Name': 'Neosalus Cream', 'Use': 'Neosalus Cream (free fatty acids, dimethicone, glycerin, and other ingredients) is a fragrance-free, non-comedogenic water soluble dressing formulated for the management of various types of dermatoses, including atopic dermatitis and allergic contact dermatitis.', 'Side Effects': [' skin swelling', ' dryness', ' scaling', ' burning, or', ' itching, usually in the first two to four weeks of use.'], 'Dosage': 'Apply a dose of Neosalus Cream to the affected area three times a day (or as needed). Rub Neosalus Cream into the skin until it is completely absorbed.'}\n",
      "{'Medicine Name': 'Neosalus Foam', 'Use': 'Neosalus Foam (free fatty acids, dimethicone, glycerin, and other ingredients) is a fragrance-free, non-comedogenic water soluble dressing formulated for the management of various types of dermatoses, including atopic dermatitis and allergic contact dermatitis.', 'Side Effects': ['hives,', 'difficulty breathing,', 'swelling of your face, lips, tongue, or throat,', 'rash,', 'red, swollen, blistered, or peeling skin with or without fever,', 'wheezing,'], 'Dosage': 'Apply a dose of Neosalus Foam to the affected area three times a day (or as needed). Rub Neosalus Foam into the skin until it is completely absorbed.'}\n",
      "{'Medicine Name': 'Neosalus Cream', 'Use': 'Neosalus Cream (free fatty acids, dimethicone, glycerin, and other ingredients) is a fragrance-free, non-comedogenic water soluble dressing formulated for the management of various types of dermatoses, including atopic dermatitis and allergic contact dermatitis.', 'Side Effects': [' skin swelling', ' dryness', ' scaling', ' burning, or', ' itching, usually in the first two to four weeks of use.'], 'Dosage': 'Apply a dose of Neosalus Cream to the affected area three times a day (or as needed). Rub Neosalus Cream into the skin until it is completely absorbed.'}\n",
      "{'Medicine Name': 'Neosalus Foam', 'Use': 'Neosalus Foam (free fatty acids, dimethicone, glycerin, and other ingredients) is a fragrance-free, non-comedogenic water soluble dressing formulated for the management of various types of dermatoses, including atopic dermatitis and allergic contact dermatitis.', 'Side Effects': ['hives,', 'difficulty breathing,', 'swelling of your face, lips, tongue, or throat,', 'rash,', 'red, swollen, blistered, or peeling skin with or without fever,', 'wheezing,'], 'Dosage': 'Apply a dose of Neosalus Foam to the affected area three times a day (or as needed). Rub Neosalus Foam into the skin until it is completely absorbed.'}\n",
      "{'Medicine Name': 'Neosalus Lotion', 'Use': '', 'Side Effects': ['skin swelling', 'dryness', 'scaling', 'burning, or', 'itching, usually in the first two to four weeks of use.'], 'Dosage': 'N/A'}\n",
      "{'Medicine Name': 'Neosalus Lotion', 'Use': '', 'Side Effects': ['skin swelling', 'dryness', 'scaling', 'burning, or', 'itching, usually in the first two to four weeks of use.'], 'Dosage': 'N/A'}\n",
      "{'Medicine Name': 'Neosporin Ophthalmic Ointment', 'Use': 'Neosporin Ophthalmic Ointment (neomycin and polymyxin B sulfates and bacitracin zinc) is a combination of antibiotics used to treat bacterial infections of the eyes. The brand name Neosporin Ophthalmic Ointment is discontinued, but generic versions may be available.', 'Side Effects': ['stinging, burning, irritation, itching, or redness of the eyes for 1 to 2 minutes; \\n\\t', 'temporary blurred vision when this medication is applied, ', 'eyelid itching, ', 'eyelid swelling or crusting, ', 'tearing, or ', 'sensitivity to light. '], 'Dosage': 'Apply Neosporin Ophthalmic Ointment every 3 or 4 hours for 7 to 10 days, depending on the severity of the infection.'}\n",
      "{'Medicine Name': 'Neosporin-GU', 'Use': 'Neosporin G.U. (neomycin sulfate–polymyxin B sulfate solution for irrigation) is a concentrated sterile antibiotic solution to be diluted for urinary bladder irrigation indicated for short-term use (up to 10 days) as a continuous irrigant or rinse in the urinary bladder of abacteriuric patients to help prevent bacteriuria and gram-negative rod septicemia associated with the use of indwelling catheters. Neosporin G.U. is available in generic form.', 'Side Effects': ['Serious eye symptoms such as sudden vision loss, blurred vision, tunnel vision, eye pain or swelling, or seeing halos around lights;', 'Serious heart symptoms such as fast, irregular, or pounding heartbeats; fluttering in your chest; shortness of breath; and sudden dizziness, lightheartedness, or passing out;', 'Severe headache, confusion, slurred speech, arm or leg weakness, trouble walking, loss of coordination, feeling unsteady, very stiff muscles, high fever, profuse sweating, or tremors.'], 'Dosage': \"For most patients, the inflow rate of the 1,000-mL saline solution of Neosporin G.U. should be adjusted to a slow drip to deliver about 1,000 mL every 24 hours. If the patient's urine output exceeds 2 liters per day, it is recommended that the inflow rate be adjusted to deliver 2,000 mL of the solution in a 24-hour period.\"}\n",
      "{'Medicine Name': 'Prostigmin', 'Use': 'Prostigmin (neostigmine) is an anticholinesterase agent used to treat the symptoms of myasthenia gravis. Prostigmin may be available in generic form. ', 'Side Effects': ['new or increased muscle cramps, weakness, or twitching,', 'new or increased difficulty swallowing,', 'slow, fast or irregular heartbeat,', 'dizziness,', 'shortness of breath,', 'headache,'], 'Dosage': 'Dosage requirements of Prostigmin for optimal results vary from 15 mg to 375 mg per day.'}\n",
      "{'Medicine Name': 'Neostigmine', 'Use': 'Neostigmine methylsulfate injection is an anticholinesterase agent used to treat myasthenia gravis, postoperative distention and urinary retention, and to reverse effects of non-depolarizing neuromuscular blocking agents after surgery.', 'Side Effects': ['hives,', 'difficulty breathing,', 'swelling of your face, lips, tongue, or throat,', 'new or increased muscle cramps, weakness, or twitching,', 'new or increased difficulty swallowing,', 'slow, fast or irregular heartbeat,'], 'Dosage': 'Dosage of neostigmine methylsulfate injection depends on the condition being treated.'}\n",
      "{'Medicine Name': 'Prevduo', 'Use': 'March 8, 2023', 'Side Effects': [], 'Dosage': 'N/A'}\n",
      "{'Medicine Name': 'Neostigmine', 'Use': 'Neostigmine methylsulfate injection is an anticholinesterase agent used to treat myasthenia gravis, postoperative distention and urinary retention, and to reverse effects of non-depolarizing neuromuscular blocking agents after surgery.', 'Side Effects': ['hives,', 'difficulty breathing,', 'swelling of your face, lips, tongue, or throat,', 'new or increased muscle cramps, weakness, or twitching,', 'new or increased difficulty swallowing,', 'slow, fast or irregular heartbeat,'], 'Dosage': 'Dosage of neostigmine methylsulfate injection depends on the condition being treated.'}\n",
      "{'Medicine Name': 'Bloxiverz', 'Use': 'Bloxiverz (neostigmine methylsulfate) injection is a cholinesterase inhibitor used after surgery to reverse the effects of non-depolarizing neuromuscular blocking agents.', 'Side Effects': ['hives,', 'difficulty breathing,', 'swelling of your face, lips, tongue, or throat, and', 'post-operative muscle weakness', 'slow heartbeat,', 'nausea and vomiting,'], 'Dosage': \"Dosage of Bloxiverz is based on the patient's weight. The drug is administered intravenously and is injected slowly over a period of at least 1 minute.\"}\n"
     ]
    },
    {
     "ename": "WebDriverException",
     "evalue": "Message: disconnected: not connected to DevTools\n  (failed to check if window was closed: disconnected: not connected to DevTools)\n  (Session info: chrome=125.0.6422.112)\nStacktrace:\n\tGetHandleVerifier [0x0025B793+45827]\n\t(No symbol) [0x001EDB74]\n\t(No symbol) [0x000E150F]\n\t(No symbol) [0x000CC238]\n\t(No symbol) [0x000CC159]\n\t(No symbol) [0x000E3740]\n\t(No symbol) [0x0015B906]\n\t(No symbol) [0x00142B96]\n\t(No symbol) [0x00116998]\n\t(No symbol) [0x0011751D]\n\tGetHandleVerifier [0x005143C3+2899763]\n\tGetHandleVerifier [0x005677ED+3240797]\n\tGetHandleVerifier [0x002E1264+593364]\n\tGetHandleVerifier [0x002E818C+621820]\n\t(No symbol) [0x001F6F54]\n\t(No symbol) [0x001F3658]\n\t(No symbol) [0x001F37F7]\n\t(No symbol) [0x001E58AE]\n\tBaseThreadInitThunk [0x759B5D49+25]\n\tRtlInitializeExceptionChain [0x7737B97B+107]\n\tRtlGetAppContainerNamedObjectPath [0x7737B901+561]\n\t(No symbol) [0x00000000]\n",
     "output_type": "error",
     "traceback": [
      "\u001b[1;31m---------------------------------------------------------------------------\u001b[0m",
      "\u001b[1;31mWebDriverException\u001b[0m                        Traceback (most recent call last)",
      "Cell \u001b[1;32mIn[12], line 10\u001b[0m\n\u001b[0;32m      8\u001b[0m second \u001b[38;5;241m=\u001b[39m wait\u001b[38;5;241m.\u001b[39muntil(EC\u001b[38;5;241m.\u001b[39melement_to_be_clickable((By\u001b[38;5;241m.\u001b[39mXPATH, \u001b[38;5;124mf\u001b[39m\u001b[38;5;124m'\u001b[39m\u001b[38;5;124m//*[@id=\u001b[39m\u001b[38;5;124m\"\u001b[39m\u001b[38;5;124mAZ_container\u001b[39m\u001b[38;5;124m\"\u001b[39m\u001b[38;5;124m]/div/ul[\u001b[39m\u001b[38;5;132;01m{\u001b[39;00mi\u001b[38;5;241m+\u001b[39m\u001b[38;5;241m1\u001b[39m\u001b[38;5;132;01m}\u001b[39;00m\u001b[38;5;124m]/li[\u001b[39m\u001b[38;5;132;01m{\u001b[39;00mj\u001b[38;5;132;01m}\u001b[39;00m\u001b[38;5;124m]/a\u001b[39m\u001b[38;5;124m'\u001b[39m)))\n\u001b[0;32m      9\u001b[0m driver\u001b[38;5;241m.\u001b[39mexecute_script(\u001b[38;5;124m\"\u001b[39m\u001b[38;5;124marguments[0].click()\u001b[39m\u001b[38;5;124m\"\u001b[39m, second)\n\u001b[1;32m---> 10\u001b[0m soup\u001b[38;5;241m=\u001b[39mBeautifulSoup(\u001b[43mdriver\u001b[49m\u001b[38;5;241;43m.\u001b[39;49m\u001b[43mpage_source\u001b[49m,\u001b[38;5;124m'\u001b[39m\u001b[38;5;124mhtml.parser\u001b[39m\u001b[38;5;124m'\u001b[39m)\n\u001b[0;32m     11\u001b[0m medicine_name\u001b[38;5;241m=\u001b[39msoup\u001b[38;5;241m.\u001b[39mfind(\u001b[38;5;124m'\u001b[39m\u001b[38;5;124mh1\u001b[39m\u001b[38;5;124m'\u001b[39m)\u001b[38;5;241m.\u001b[39mget_text()\u001b[38;5;241m.\u001b[39mstrip()\n\u001b[0;32m     12\u001b[0m mai\u001b[38;5;241m=\u001b[39msoup\u001b[38;5;241m.\u001b[39mfind(\u001b[38;5;124m'\u001b[39m\u001b[38;5;124mdiv\u001b[39m\u001b[38;5;124m'\u001b[39m,class_\u001b[38;5;241m=\u001b[39m\u001b[38;5;124m'\u001b[39m\u001b[38;5;124mmonograph_cont\u001b[39m\u001b[38;5;124m'\u001b[39m)\n",
      "File \u001b[1;32mc:\\Users\\loveb\\AppData\\Local\\Programs\\Python\\Python311\\Lib\\site-packages\\selenium\\webdriver\\remote\\webdriver.py:448\u001b[0m, in \u001b[0;36mWebDriver.page_source\u001b[1;34m(self)\u001b[0m\n\u001b[0;32m    439\u001b[0m \u001b[38;5;129m@property\u001b[39m\n\u001b[0;32m    440\u001b[0m \u001b[38;5;28;01mdef\u001b[39;00m \u001b[38;5;21mpage_source\u001b[39m(\u001b[38;5;28mself\u001b[39m) \u001b[38;5;241m-\u001b[39m\u001b[38;5;241m>\u001b[39m \u001b[38;5;28mstr\u001b[39m:\n\u001b[0;32m    441\u001b[0m \u001b[38;5;250m    \u001b[39m\u001b[38;5;124;03m\"\"\"Gets the source of the current page.\u001b[39;00m\n\u001b[0;32m    442\u001b[0m \n\u001b[0;32m    443\u001b[0m \u001b[38;5;124;03m    :Usage:\u001b[39;00m\n\u001b[1;32m   (...)\u001b[0m\n\u001b[0;32m    446\u001b[0m \u001b[38;5;124;03m            driver.page_source\u001b[39;00m\n\u001b[0;32m    447\u001b[0m \u001b[38;5;124;03m    \"\"\"\u001b[39;00m\n\u001b[1;32m--> 448\u001b[0m     \u001b[38;5;28;01mreturn\u001b[39;00m \u001b[38;5;28;43mself\u001b[39;49m\u001b[38;5;241;43m.\u001b[39;49m\u001b[43mexecute\u001b[49m\u001b[43m(\u001b[49m\u001b[43mCommand\u001b[49m\u001b[38;5;241;43m.\u001b[39;49m\u001b[43mGET_PAGE_SOURCE\u001b[49m\u001b[43m)\u001b[49m[\u001b[38;5;124m\"\u001b[39m\u001b[38;5;124mvalue\u001b[39m\u001b[38;5;124m\"\u001b[39m]\n",
      "File \u001b[1;32mc:\\Users\\loveb\\AppData\\Local\\Programs\\Python\\Python311\\Lib\\site-packages\\selenium\\webdriver\\remote\\webdriver.py:347\u001b[0m, in \u001b[0;36mWebDriver.execute\u001b[1;34m(self, driver_command, params)\u001b[0m\n\u001b[0;32m    345\u001b[0m response \u001b[38;5;241m=\u001b[39m \u001b[38;5;28mself\u001b[39m\u001b[38;5;241m.\u001b[39mcommand_executor\u001b[38;5;241m.\u001b[39mexecute(driver_command, params)\n\u001b[0;32m    346\u001b[0m \u001b[38;5;28;01mif\u001b[39;00m response:\n\u001b[1;32m--> 347\u001b[0m     \u001b[38;5;28;43mself\u001b[39;49m\u001b[38;5;241;43m.\u001b[39;49m\u001b[43merror_handler\u001b[49m\u001b[38;5;241;43m.\u001b[39;49m\u001b[43mcheck_response\u001b[49m\u001b[43m(\u001b[49m\u001b[43mresponse\u001b[49m\u001b[43m)\u001b[49m\n\u001b[0;32m    348\u001b[0m     response[\u001b[38;5;124m\"\u001b[39m\u001b[38;5;124mvalue\u001b[39m\u001b[38;5;124m\"\u001b[39m] \u001b[38;5;241m=\u001b[39m \u001b[38;5;28mself\u001b[39m\u001b[38;5;241m.\u001b[39m_unwrap_value(response\u001b[38;5;241m.\u001b[39mget(\u001b[38;5;124m\"\u001b[39m\u001b[38;5;124mvalue\u001b[39m\u001b[38;5;124m\"\u001b[39m, \u001b[38;5;28;01mNone\u001b[39;00m))\n\u001b[0;32m    349\u001b[0m     \u001b[38;5;28;01mreturn\u001b[39;00m response\n",
      "File \u001b[1;32mc:\\Users\\loveb\\AppData\\Local\\Programs\\Python\\Python311\\Lib\\site-packages\\selenium\\webdriver\\remote\\errorhandler.py:229\u001b[0m, in \u001b[0;36mErrorHandler.check_response\u001b[1;34m(self, response)\u001b[0m\n\u001b[0;32m    227\u001b[0m         alert_text \u001b[38;5;241m=\u001b[39m value[\u001b[38;5;124m\"\u001b[39m\u001b[38;5;124malert\u001b[39m\u001b[38;5;124m\"\u001b[39m]\u001b[38;5;241m.\u001b[39mget(\u001b[38;5;124m\"\u001b[39m\u001b[38;5;124mtext\u001b[39m\u001b[38;5;124m\"\u001b[39m)\n\u001b[0;32m    228\u001b[0m     \u001b[38;5;28;01mraise\u001b[39;00m exception_class(message, screen, stacktrace, alert_text)  \u001b[38;5;66;03m# type: ignore[call-arg]  # mypy is not smart enough here\u001b[39;00m\n\u001b[1;32m--> 229\u001b[0m \u001b[38;5;28;01mraise\u001b[39;00m exception_class(message, screen, stacktrace)\n",
      "\u001b[1;31mWebDriverException\u001b[0m: Message: disconnected: not connected to DevTools\n  (failed to check if window was closed: disconnected: not connected to DevTools)\n  (Session info: chrome=125.0.6422.112)\nStacktrace:\n\tGetHandleVerifier [0x0025B793+45827]\n\t(No symbol) [0x001EDB74]\n\t(No symbol) [0x000E150F]\n\t(No symbol) [0x000CC238]\n\t(No symbol) [0x000CC159]\n\t(No symbol) [0x000E3740]\n\t(No symbol) [0x0015B906]\n\t(No symbol) [0x00142B96]\n\t(No symbol) [0x00116998]\n\t(No symbol) [0x0011751D]\n\tGetHandleVerifier [0x005143C3+2899763]\n\tGetHandleVerifier [0x005677ED+3240797]\n\tGetHandleVerifier [0x002E1264+593364]\n\tGetHandleVerifier [0x002E818C+621820]\n\t(No symbol) [0x001F6F54]\n\t(No symbol) [0x001F3658]\n\t(No symbol) [0x001F37F7]\n\t(No symbol) [0x001E58AE]\n\tBaseThreadInitThunk [0x759B5D49+25]\n\tRtlInitializeExceptionChain [0x7737B97B+107]\n\tRtlGetAppContainerNamedObjectPath [0x7737B901+561]\n\t(No symbol) [0x00000000]\n"
     ]
    }
   ],
   "source": [
    "\n",
    "medicines_dataF=[]\n",
    "m=0\n",
    "wait = WebDriverWait(driver, 30)\n",
    "for i in range(0,ulA):\n",
    "    s=list_sizes[i]\n",
    "    print(s)\n",
    "    for j in range(1,s+1):\n",
    "        second = wait.until(EC.element_to_be_clickable((By.XPATH, f'//*[@id=\"AZ_container\"]/div/ul[{i+1}]/li[{j}]/a'))) #This will make sure that page is loaded before clicking\n",
    "        driver.execute_script(\"arguments[0].click()\", second)\n",
    "        soup=BeautifulSoup(driver.page_source,'html.parser') #Beautiful spup is loaded for  each webpage\n",
    "        medicine_name=soup.find('h1').get_text().strip() #The h1 heading is extracted as Medicine name\n",
    "        mai=soup.find('div',class_='monograph_cont')\n",
    "        symptom=mai.find('p').text #The first paragraph is extracted as the use of the medicine\n",
    "        dosage=mai.find_all('h4')[2].findNextSibling().text if len(mai.find_all('h4')) > 2 else \"N/A\" #The dosage is extracted from the 3rd h4 tag\n",
    "        side=mai.findAll('li')[0:6] #The first 6 side effects are extracted\n",
    "        side_effects=[]\n",
    "        for effect in side:\n",
    "            side_effects.append(effect.text)\n",
    "        medicine_data = {\n",
    "    'Medicine Name': medicine_name,\n",
    "    'Use': symptom,\n",
    "    'Side Effects': side_effects,\n",
    "    'Dosage': dosage\n",
    "}\n",
    "        print(medicine_data)\n",
    "        medicines_dataF.append(medicine_data)\n",
    "        driver.back()\n",
    " \n",
    "\n"
   ]
  },
  {
   "cell_type": "code",
   "execution_count": 13,
   "metadata": {},
   "outputs": [
    {
     "data": {
      "text/plain": [
       "121"
      ]
     },
     "execution_count": 13,
     "metadata": {},
     "output_type": "execute_result"
    }
   ],
   "source": [
    "len(medicines_dataF)"
   ]
  },
  {
   "cell_type": "code",
   "execution_count": 77,
   "metadata": {},
   "outputs": [
    {
     "data": {
      "text/html": [
       "<div>\n",
       "<style scoped>\n",
       "    .dataframe tbody tr th:only-of-type {\n",
       "        vertical-align: middle;\n",
       "    }\n",
       "\n",
       "    .dataframe tbody tr th {\n",
       "        vertical-align: top;\n",
       "    }\n",
       "\n",
       "    .dataframe thead th {\n",
       "        text-align: right;\n",
       "    }\n",
       "</style>\n",
       "<table border=\"1\" class=\"dataframe\">\n",
       "  <thead>\n",
       "    <tr style=\"text-align: right;\">\n",
       "      <th></th>\n",
       "      <th>Medicine Name</th>\n",
       "      <th>Use</th>\n",
       "      <th>Side Effects</th>\n",
       "      <th>Dosage</th>\n",
       "    </tr>\n",
       "  </thead>\n",
       "  <tbody>\n",
       "    <tr>\n",
       "      <th>0</th>\n",
       "      <td>A-Methapred</td>\n",
       "      <td>A-Methapred (methylprednisolone sodium succina...</td>\n",
       "      <td>['muscle weakness', 'peptic ulcer', 'slow woun...</td>\n",
       "      <td>Dosage recommendations for A-Methapred vary fo...</td>\n",
       "    </tr>\n",
       "    <tr>\n",
       "      <th>1</th>\n",
       "      <td>Kivexa</td>\n",
       "      <td>Kivexa (abacavir and lamivudine) is a combinat...</td>\n",
       "      <td>['hives,', 'difficulty breathing,', 'swelling ...</td>\n",
       "      <td>The recommended dose of Kivexa tablets in adul...</td>\n",
       "    </tr>\n",
       "    <tr>\n",
       "      <th>2</th>\n",
       "      <td>Ziagen</td>\n",
       "      <td>Ziagen (abacavir sulfate) is an antiviral medi...</td>\n",
       "      <td>['trouble sleeping, ', 'loss of appetite, ', '...</td>\n",
       "      <td>The recommended oral dose of Ziagen for adults...</td>\n",
       "    </tr>\n",
       "    <tr>\n",
       "      <th>3</th>\n",
       "      <td>Epzicom</td>\n",
       "      <td>Epzicom (abacavir sulfate and lamivudine) is a...</td>\n",
       "      <td>['headache, ', 'nausea, ', 'diarrhea, ', 'dizz...</td>\n",
       "      <td>The recommended oral dose of Epzicom for adult...</td>\n",
       "    </tr>\n",
       "    <tr>\n",
       "      <th>4</th>\n",
       "      <td>Trizivir</td>\n",
       "      <td>Trizivir (abacavir sulfate, lamivudine, and zi...</td>\n",
       "      <td>['headache, ', 'tiredness, ', 'weakness, ', 'n...</td>\n",
       "      <td>The recommended oral dose of Trizivir is one t...</td>\n",
       "    </tr>\n",
       "    <tr>\n",
       "      <th>...</th>\n",
       "      <td>...</td>\n",
       "      <td>...</td>\n",
       "      <td>...</td>\n",
       "      <td>...</td>\n",
       "    </tr>\n",
       "    <tr>\n",
       "      <th>903</th>\n",
       "      <td>Meruvax</td>\n",
       "      <td>Meruvax II (rubella virus) Vaccine Live is a l...</td>\n",
       "      <td>[]</td>\n",
       "      <td>The dose of Meruvax II for any age is 0.5 mL a...</td>\n",
       "    </tr>\n",
       "    <tr>\n",
       "      <th>904</th>\n",
       "      <td>Canasa</td>\n",
       "      <td>Canasa (mesalamine) is an anti-inflammatory dr...</td>\n",
       "      <td>[rectal pain, , pain when inserting the suppos...</td>\n",
       "      <td>The usual dosage of Canasa 1000 mg suppositori...</td>\n",
       "    </tr>\n",
       "    <tr>\n",
       "      <th>905</th>\n",
       "      <td>Pentasa</td>\n",
       "      <td>Pentasa (mesalamine) is an anti-inflammatory a...</td>\n",
       "      <td>[severe stomach pain,, stomach cramping,, bloo...</td>\n",
       "      <td>The recommended dosage of Pentasa for the indu...</td>\n",
       "    </tr>\n",
       "    <tr>\n",
       "      <th>906</th>\n",
       "      <td>Lialda</td>\n",
       "      <td>Lialda (mesalamine) is an anti-inflammatory ag...</td>\n",
       "      <td>[nausea, , vomiting, , stomach cramps, , diarr...</td>\n",
       "      <td>The recommended dosage of Lialda for the induc...</td>\n",
       "    </tr>\n",
       "    <tr>\n",
       "      <th>907</th>\n",
       "      <td>Delzicol</td>\n",
       "      <td>Delzicol (mesalamine) is an aminosalicylate us...</td>\n",
       "      <td>[hives,, difficulty breathing,, swelling of yo...</td>\n",
       "      <td>Delzicol is available as a delayed-release cap...</td>\n",
       "    </tr>\n",
       "  </tbody>\n",
       "</table>\n",
       "<p>908 rows × 4 columns</p>\n",
       "</div>"
      ],
      "text/plain": [
       "    Medicine Name                                                Use  \\\n",
       "0     A-Methapred  A-Methapred (methylprednisolone sodium succina...   \n",
       "1          Kivexa  Kivexa (abacavir and lamivudine) is a combinat...   \n",
       "2          Ziagen  Ziagen (abacavir sulfate) is an antiviral medi...   \n",
       "3         Epzicom  Epzicom (abacavir sulfate and lamivudine) is a...   \n",
       "4        Trizivir  Trizivir (abacavir sulfate, lamivudine, and zi...   \n",
       "..            ...                                                ...   \n",
       "903       Meruvax  Meruvax II (rubella virus) Vaccine Live is a l...   \n",
       "904        Canasa  Canasa (mesalamine) is an anti-inflammatory dr...   \n",
       "905       Pentasa  Pentasa (mesalamine) is an anti-inflammatory a...   \n",
       "906        Lialda  Lialda (mesalamine) is an anti-inflammatory ag...   \n",
       "907      Delzicol  Delzicol (mesalamine) is an aminosalicylate us...   \n",
       "\n",
       "                                          Side Effects  \\\n",
       "0    ['muscle weakness', 'peptic ulcer', 'slow woun...   \n",
       "1    ['hives,', 'difficulty breathing,', 'swelling ...   \n",
       "2    ['trouble sleeping, ', 'loss of appetite, ', '...   \n",
       "3    ['headache, ', 'nausea, ', 'diarrhea, ', 'dizz...   \n",
       "4    ['headache, ', 'tiredness, ', 'weakness, ', 'n...   \n",
       "..                                                 ...   \n",
       "903                                                 []   \n",
       "904  [rectal pain, , pain when inserting the suppos...   \n",
       "905  [severe stomach pain,, stomach cramping,, bloo...   \n",
       "906  [nausea, , vomiting, , stomach cramps, , diarr...   \n",
       "907  [hives,, difficulty breathing,, swelling of yo...   \n",
       "\n",
       "                                                Dosage  \n",
       "0    Dosage recommendations for A-Methapred vary fo...  \n",
       "1    The recommended dose of Kivexa tablets in adul...  \n",
       "2    The recommended oral dose of Ziagen for adults...  \n",
       "3    The recommended oral dose of Epzicom for adult...  \n",
       "4    The recommended oral dose of Trizivir is one t...  \n",
       "..                                                 ...  \n",
       "903  The dose of Meruvax II for any age is 0.5 mL a...  \n",
       "904  The usual dosage of Canasa 1000 mg suppositori...  \n",
       "905  The recommended dosage of Pentasa for the indu...  \n",
       "906  The recommended dosage of Lialda for the induc...  \n",
       "907  Delzicol is available as a delayed-release cap...  \n",
       "\n",
       "[908 rows x 4 columns]"
      ]
     },
     "execution_count": 77,
     "metadata": {},
     "output_type": "execute_result"
    }
   ],
   "source": [
    "dfrm=pd.read_csv('a-b-c-d-e-f-g-h-i-j-k-l.csv')\n",
    "data=pd.DataFrame(medicines_dataF)\n",
    "data1=pd.concat([dfrm,data]).reset_index(drop=True)\n",
    "data1"
   ]
  },
  {
   "cell_type": "code",
   "execution_count": 1,
   "metadata": {},
   "outputs": [
    {
     "ename": "NameError",
     "evalue": "name 'data1' is not defined",
     "output_type": "error",
     "traceback": [
      "\u001b[1;31m---------------------------------------------------------------------------\u001b[0m",
      "\u001b[1;31mNameError\u001b[0m                                 Traceback (most recent call last)",
      "Cell \u001b[1;32mIn[1], line 1\u001b[0m\n\u001b[1;32m----> 1\u001b[0m \u001b[43mdata1\u001b[49m\u001b[38;5;241m.\u001b[39mto_csv(\u001b[38;5;124m'\u001b[39m\u001b[38;5;124ma-b-c-d-e-f-g-h-i-j-k-l-m.csv\u001b[39m\u001b[38;5;124m'\u001b[39m,index\u001b[38;5;241m=\u001b[39m\u001b[38;5;28;01mTrue\u001b[39;00m)\n",
      "\u001b[1;31mNameError\u001b[0m: name 'data1' is not defined"
     ]
    }
   ],
   "source": [
    "data1.to_csv('a-b-c-d-e-f-g-h-i-j-k-l-m.csv',index=True)\n",
    "    "
   ]
  },
  {
   "cell_type": "code",
   "execution_count": 2,
   "metadata": {},
   "outputs": [
    {
     "ename": "NameError",
     "evalue": "name 'pd' is not defined",
     "output_type": "error",
     "traceback": [
      "\u001b[1;31m---------------------------------------------------------------------------\u001b[0m",
      "\u001b[1;31mNameError\u001b[0m                                 Traceback (most recent call last)",
      "Cell \u001b[1;32mIn[2], line 1\u001b[0m\n\u001b[1;32m----> 1\u001b[0m dfrm\u001b[38;5;241m=\u001b[39m\u001b[43mpd\u001b[49m\u001b[38;5;241m.\u001b[39mread_csv(\u001b[38;5;124m'\u001b[39m\u001b[38;5;124ma-b-c-d-e-f-g-h-i-j-k-l-m.csv\u001b[39m\u001b[38;5;124m'\u001b[39m)\n",
      "\u001b[1;31mNameError\u001b[0m: name 'pd' is not defined"
     ]
    }
   ],
   "source": [
    "dfrm=pd.read_csv('a-b-c-d-e-f-g-h-i-j-k-l-m.csv')"
   ]
  }
 ],
 "metadata": {
  "kernelspec": {
   "display_name": "Python 3",
   "language": "python",
   "name": "python3"
  },
  "language_info": {
   "codemirror_mode": {
    "name": "ipython",
    "version": 3
   },
   "file_extension": ".py",
   "mimetype": "text/x-python",
   "name": "python",
   "nbconvert_exporter": "python",
   "pygments_lexer": "ipython3",
   "version": "3.11.7"
  }
 },
 "nbformat": 4,
 "nbformat_minor": 2
}
