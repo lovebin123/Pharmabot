{
 "cells": [
  {
   "cell_type": "code",
   "execution_count": 1,
   "metadata": {},
   "outputs": [
    {
     "name": "stdout",
     "output_type": "stream",
     "text": [
      "Requirement already satisfied: selenium in c:\\users\\loveb\\appdata\\local\\programs\\python\\python311\\lib\\site-packages (4.18.1)\n",
      "Requirement already satisfied: urllib3<3,>=1.26 in c:\\users\\loveb\\appdata\\local\\programs\\python\\python311\\lib\\site-packages (from urllib3[socks]<3,>=1.26->selenium) (2.0.7)\n",
      "Requirement already satisfied: trio~=0.17 in c:\\users\\loveb\\appdata\\local\\programs\\python\\python311\\lib\\site-packages (from selenium) (0.25.0)\n",
      "Requirement already satisfied: trio-websocket~=0.9 in c:\\users\\loveb\\appdata\\local\\programs\\python\\python311\\lib\\site-packages (from selenium) (0.11.1)\n",
      "Requirement already satisfied: certifi>=2021.10.8 in c:\\users\\loveb\\appdata\\local\\programs\\python\\python311\\lib\\site-packages (from selenium) (2023.11.17)\n",
      "Requirement already satisfied: typing_extensions>=4.9.0 in c:\\users\\loveb\\appdata\\local\\programs\\python\\python311\\lib\\site-packages (from selenium) (4.11.0)\n",
      "Requirement already satisfied: attrs>=23.2.0 in c:\\users\\loveb\\appdata\\local\\programs\\python\\python311\\lib\\site-packages (from trio~=0.17->selenium) (23.2.0)\n",
      "Requirement already satisfied: sortedcontainers in c:\\users\\loveb\\appdata\\local\\programs\\python\\python311\\lib\\site-packages (from trio~=0.17->selenium) (2.4.0)\n",
      "Requirement already satisfied: idna in c:\\users\\loveb\\appdata\\local\\programs\\python\\python311\\lib\\site-packages (from trio~=0.17->selenium) (3.6)\n",
      "Requirement already satisfied: outcome in c:\\users\\loveb\\appdata\\local\\programs\\python\\python311\\lib\\site-packages (from trio~=0.17->selenium) (1.3.0.post0)\n",
      "Requirement already satisfied: sniffio>=1.3.0 in c:\\users\\loveb\\appdata\\local\\programs\\python\\python311\\lib\\site-packages (from trio~=0.17->selenium) (1.3.0)\n",
      "Requirement already satisfied: cffi>=1.14 in c:\\users\\loveb\\appdata\\local\\programs\\python\\python311\\lib\\site-packages (from trio~=0.17->selenium) (1.16.0)\n",
      "Requirement already satisfied: wsproto>=0.14 in c:\\users\\loveb\\appdata\\local\\programs\\python\\python311\\lib\\site-packages (from trio-websocket~=0.9->selenium) (1.2.0)\n",
      "Requirement already satisfied: pysocks!=1.5.7,<2.0,>=1.5.6 in c:\\users\\loveb\\appdata\\local\\programs\\python\\python311\\lib\\site-packages (from urllib3[socks]<3,>=1.26->selenium) (1.7.1)\n",
      "Requirement already satisfied: pycparser in c:\\users\\loveb\\appdata\\local\\programs\\python\\python311\\lib\\site-packages (from cffi>=1.14->trio~=0.17->selenium) (2.22)\n",
      "Requirement already satisfied: h11<1,>=0.9.0 in c:\\users\\loveb\\appdata\\roaming\\python\\python311\\site-packages (from wsproto>=0.14->trio-websocket~=0.9->selenium) (0.14.0)\n"
     ]
    }
   ],
   "source": [
    "!pip install selenium\n"
   ]
  },
  {
   "cell_type": "code",
   "execution_count": 1,
   "metadata": {},
   "outputs": [],
   "source": [
    "#Import the necessary packages\n",
    "from selenium import webdriver\n",
    "import pandas as pd\n",
    "from selenium.webdriver.common.by import By\n",
    "from selenium.webdriver.chrome.service import Service\n",
    "from selenium.webdriver.support.ui import Select\n",
    "from bs4 import BeautifulSoup\n",
    "from webdriver_manager.chrome import ChromeDriverManager \n",
    "from selenium.webdriver.support.ui import WebDriverWait\n",
    "from selenium.webdriver.support import expected_conditions as EC\n",
    "import time\n"
   ]
  },
  {
   "cell_type": "code",
   "execution_count": 2,
   "metadata": {},
   "outputs": [],
   "source": [
    "service=Service(ChromeDriverManager().install())  #Initialize the selenium webdriver\n",
    "options=webdriver.ChromeOptions()\n",
    "options.add_experimental_option('excludeSwitches', ['enable-logging'])  #This will allow us to list errors if any\n",
    "options.add_extension('AdBlock — block ads across the web 6.1.1.0.crx') #In order to make webscraping faster we add a adblock\n"
   ]
  },
  {
   "cell_type": "code",
   "execution_count": 19,
   "metadata": {},
   "outputs": [],
   "source": [
    "#Loading the web driver and the website\n",
    "driver = webdriver.Chrome(options=options,service=service)\n",
    "driver.get('https://www.rxlist.com/drugs/alpha_c.htm')\n"
   ]
  },
  {
   "cell_type": "code",
   "execution_count": 20,
   "metadata": {},
   "outputs": [],
   "source": [
    "#Loading beautiful soup\n",
    "soup = BeautifulSoup(driver.page_source, 'html.parser')\n"
   ]
  },
  {
   "cell_type": "code",
   "execution_count": 21,
   "metadata": {},
   "outputs": [
    {
     "name": "stdout",
     "output_type": "stream",
     "text": [
      "0\n",
      "\n",
      "1\n",
      "\n",
      "2\n",
      "\n",
      "3\n",
      "\n",
      "4\n",
      "\n",
      "5\n",
      "\n",
      "6\n",
      "\n"
     ]
    }
   ],
   "source": [
    "soup = BeautifulSoup(driver.page_source, 'html.parser')\n",
    "k=soup.find('div',class_='AZ_results')\n",
    "li=k.findAll('ul')\n",
    "m=0\n",
    "list_sizes=[]\n",
    "for i in range(len(li)):\n",
    "    s=set()\n",
    "    li1=li[i]\n",
    "    print(i)\n",
    "    print()\n",
    "    li_list=li1.findChildren()\n",
    "    for i in li_list:\n",
    "        s.add(i.text)\n",
    "    list_sizes.append(len(s))\n",
    "\n",
    "    "
   ]
  },
  {
   "cell_type": "code",
   "execution_count": 22,
   "metadata": {},
   "outputs": [],
   "source": [
    "#Finding all subheadings for iteration\n",
    "ul=k.find('h4').find_all('a')\n",
    "ulA=len(ul)"
   ]
  },
  {
   "cell_type": "code",
   "execution_count": 23,
   "metadata": {},
   "outputs": [
    {
     "name": "stdout",
     "output_type": "stream",
     "text": [
      "7\n"
     ]
    }
   ],
   "source": [
    "print(ulA)\n"
   ]
  },
  {
   "cell_type": "code",
   "execution_count": 24,
   "metadata": {},
   "outputs": [
    {
     "name": "stdout",
     "output_type": "stream",
     "text": [
      "168\n"
     ]
    }
   ],
   "source": [
    "print(list_sizes[0])"
   ]
  },
  {
   "cell_type": "code",
   "execution_count": 25,
   "metadata": {},
   "outputs": [
    {
     "name": "stdout",
     "output_type": "stream",
     "text": [
      "168"
     ]
    },
    {
     "name": "stdout",
     "output_type": "stream",
     "text": [
      "\n",
      "{'Medicine Name': 'Cinryze', 'Use': 'Cinryze (c1 esterase inhibitor [human]) Freeze Dried Powder is a man-made form of a protein that occurs naturally in the bloodstream and helps control inflammation in the body and is used in people with hereditary angioedema. The Berinert brand of this medication is used to treat attacks of angioedema. The Cinryze brand is used to prevent attacks of angioedema.', 'Side Effects': ['hives,', 'difficulty breathing,', 'swelling of your face, lips, tongue, or throat,', 'chest tightness,', 'fast heartbeats,', 'lightheadedness,'], 'Dosage': 'A dose of 1,000 Units Cinryze can be administered every 3 or 4 days for routine prophylaxis against angioedema attacks in HAE patients.'}\n",
      "{'Medicine Name': 'Ruconest', 'Use': 'Ruconest (C1 esterase inhibitor [recombinant]) Intravenous Injection is a C1 esterase inhibitor [recombinant] indicated for the treatment of acute attacks in adult and adolescent patients with hereditary angioedema (HAE).', 'Side Effects': ['hives,', 'difficulty breathing,', 'swelling of your face, lips, tongue, or throat,', 'chest tightness,', 'fast heartbeats,', 'lightheadedness,'], 'Dosage': 'The recommended dose of Ruconest is 50 IU per kg with a maximum of 4200 IU to be administered as a slow intravenous injection over approximately 5 minutes.'}\n",
      "{'Medicine Name': 'Haegarda', 'Use': 'Haegarda (C1 Esterase Inhibitor Subcutaneous [Human]) is a plasma-derived concentrate of C1 Esterase Inhibitor (Human) (C1-INH) indicated for routine prophylaxis to prevent Hereditary Angioedema (HAE) attacks in adolescent and adult patients.', 'Side Effects': ['hives,', 'difficulty breathing,', 'swelling of your face, lips, tongue, or throat,', 'chest tightness,', 'fast heartbeats,', 'lightheadedness,'], 'Dosage': 'Administer a dose of 60 International Units per kg body weight of Haegarda twice weekly (every 3 or 4 days).'}\n",
      "{'Medicine Name': 'Ca-DTPA', 'Use': 'Ca-DTPA (pentetate calcium trisodium) is a chelating agent used to treat patients with known or suspected internal contamination with plutonium, americium, or curium to increase the rates of elimination.', 'Side Effects': ['headache', 'lightheadedness', 'chest pain', 'allergic reaction', 'skin inflammation', 'metallic taste'], 'Dosage': 'The initial dose of Ca-DTPA for adults and adolescents is a single 1.0 gram initial dose of Ca-DTPA administered intravenously. The pediatric dose (less than 12 years of age) is a single initial dose of 14 mg/kg administered intravenously not exceed 1.0 gram.'}\n",
      "{'Medicine Name': 'Jevtana', 'Use': 'Jevtana (cabazitaxel) is a cancer (antineoplastic) medication used together with prednisone to treat prostate cancer that has spread to other parts of the body (metastatic). Jevtana is usually given after other cancer medicines have been tried without success.', 'Side Effects': ['hives,', 'difficulty breathing,', 'swelling of your face, lips, tongue, or throat,', 'rash,', 'skin redness,', 'chest tightness,'], 'Dosage': 'The individual dosage of Jevtana is based on calculation of the Body Surface Area (BSA) and is 25 mg/m2 administered as a one-hour intravenous infusion every three weeks in combination with oral prednisone 10 mg administered daily throughout treatment.'}\n",
      "{'Medicine Name': 'Cabenuva', 'Use': 'Cabenuva (cabotegravir extended-release injectable suspension; rilpivirine extended-release injectable suspension) is a 2-drug co-packaged product of a human immunodeficiency virus type-1 (HIV-1) integrase strand transfer inhibitor (INSTI) and an HIV-1 non-nucleoside reverse transcriptase inhibitor (NNRTI), indicated as a complete regimen for the treatment of HIV-1 infection in adults to replace the current antiretroviral regimen in those who are virologically suppressed (HIV-1 RNA less than 50 copies per mL) on a stable antiretroviral regimen with no history of treatment failure and with no known or suspected resistance to either cabotegravir or rilpivirine. ', 'Side Effects': ['hives,', 'difficulty breathing,', 'swelling of your face, lips, tongue, or throat,', 'fever,', 'tiredness,', 'body aches,'], 'Dosage': 'The recommended dosing schedule: Initiate injections of Cabenuva (600 mg of cabotegravir and 900 mg of rilpivirine) on the last day of oral lead-in and continue with injections of Cabenuva (400 mg of cabotegravir and 600 mg of rilpivirine) every month thereafter.'}\n",
      "{'Medicine Name': 'Dostinex', 'Use': 'Dostinex (cabergoline) is a dopamine receptor antagonist used to treat a hormone imbalance in which there is too much prolactin in the blood (also called hyperprolactinemia).', 'Side Effects': ['nausea, ', 'vomiting, ', 'stomach upset or pain, ', 'indigestion, ', 'constipation, ', 'gas, '], 'Dosage': 'N/A'}\n",
      "{'Medicine Name': 'Cablivi', 'Use': 'Cablivi (caplacizumab-yhdp) is a von Willebrand factor (vWF)-directed antibody fragment indicated for the treatment of adult patients with acquired thrombotic thrombocytopenic purpura (aTTP), in combination with plasma exchange and immunosuppressive therapy.', 'Side Effects': ['hives,', 'difficulty breathing,', 'swelling of your face, lips, tongue, or throat,', 'easy bruising,', 'unusual bleeding (nosebleeds, bleeding gums),', 'unusual vaginal bleeding,'], 'Dosage': 'The recommended dose of Cablivi is as follows: First day of treatment: 11 mg bolus intravenous injection at least 15 minutes prior to plasma exchange followed by an 11 mg subcutaneous injection after completion of plasma exchange on day 1. Subsequent treatment during daily plasma exchange: 11 mg subcutaneous injection once daily following plasma exchange. Treatment after the plasma exchange period: 11 mg subcutaneous injection once daily for 30 days beyond the last plasma exchange.'}\n",
      "{'Medicine Name': 'Cabometyx', 'Use': 'Cabometyx (cabozantinib) Tablets is a kinase inhibitor indicated for the treatment of patients with advanced renal cell carcinoma (RCC) who have received prior anti-angiogenic therapy.', 'Side Effects': ['hives,', 'difficulty breathing,', 'swelling of your face, lips, tongue, or throat,', 'severe stomach pain,', 'choking or gagging feeling when you eat or drink,', 'vomiting,'], 'Dosage': 'The recommended daily dose of Cabometyx is 60 mg. Do not take Cabometyx with food. \\n\\n'}\n",
      "{'Medicine Name': 'Apretude', 'Use': 'Apretude (cabotegravir extended-release injectable suspension) is an HIV-1 integrase strand transfer inhibitor (INSTI) indicated in at-risk adults and adolescents weighing at least 35 kg for PrEP to reduce the risk of sexually acquired HIV-1 infection. Individuals must have a negative HIV-1 test prior to initiating APRETUDE (with or without an oral lead-in with oral cabotegravir) for HIV-1 PrEP.', 'Side Effects': ['hives,\\xa0', 'difficulty breathing,\\xa0', 'swelling of your face, lips, tongue, or throat,\\xa0', 'extreme tiredness,\\xa0', 'fever,\\xa0', 'feeling unwell,\\xa0'], 'Dosage': 'All individuals should be screened for HIV-1 infection immediately prior to initiating Apretude for HIV-1 PrEP and prior to each injection while taking Apretude. Prior to initiating Apretude, an oral lead-in dosing may be used for approximately 1 month with the recommended dosage to assess the tolerability of Apretude. The recommended dosing schedule of Apretude is initiated with a single 600-mg (3-mL) injection given 1 month apart for 2 consecutive months on the last day of an oral lead-in if used or within 3 days and continue with the injections every 2 months thereafter.'}\n",
      "{'Medicine Name': 'Vocabria', 'Use': 'Vocabria (cabotegravir) is a human immunodeficiency virus type-1 (HIV-1) integrase strand transfer inhibitor (INSTI) indicated in combination with Edurant (rilpivirine) for short-term treatment of HIV-1 infection in adults who are virologically suppressed (HIV-1 RNA less than 50 copies/mL) on a stable antiretroviral regimen with no history of treatment failure and with no known or suspected resistance to either cabotegravir or rilpivirine, for use as oral lead-in to assess the tolerability of cabotegravir prior to administration of Cabenuva (cabotegravir; rilpivirine) extended-release injectable suspensions and for use as oral therapy for patients who will miss planned injection dosing with Cabenuva. ', 'Side Effects': ['hives,\\xa0', 'difficulty breathing,\\xa0', 'swelling of your face, lips, tongue, or throat,\\xa0', 'severe dizziness,', 'extreme tiredness,\\xa0', 'fever,\\xa0'], 'Dosage': 'The dose of Vocabria is one 30 mg tablet taken orally once daily for approximately 1 month in combination with one tablet of Edurant (rilpivirine) 25 mg taken orally once daily with a meal.'}\n",
      "{'Medicine Name': 'Cabenuva', 'Use': 'Cabenuva (cabotegravir extended-release injectable suspension; rilpivirine extended-release injectable suspension) is a 2-drug co-packaged product of a human immunodeficiency virus type-1 (HIV-1) integrase strand transfer inhibitor (INSTI) and an HIV-1 non-nucleoside reverse transcriptase inhibitor (NNRTI), indicated as a complete regimen for the treatment of HIV-1 infection in adults to replace the current antiretroviral regimen in those who are virologically suppressed (HIV-1 RNA less than 50 copies per mL) on a stable antiretroviral regimen with no history of treatment failure and with no known or suspected resistance to either cabotegravir or rilpivirine. ', 'Side Effects': ['hives,', 'difficulty breathing,', 'swelling of your face, lips, tongue, or throat,', 'fever,', 'tiredness,', 'body aches,'], 'Dosage': 'The recommended dosing schedule: Initiate injections of Cabenuva (600 mg of cabotegravir and 900 mg of rilpivirine) on the last day of oral lead-in and continue with injections of Cabenuva (400 mg of cabotegravir and 600 mg of rilpivirine) every month thereafter.'}\n",
      "{'Medicine Name': 'Cometriq', 'Use': 'Cometriq (cabozantinib) capsules are kinase inhibitors used to treat people with medullary thyroid cancer (MTC) that has spread to other parts of the body.', 'Side Effects': ['hives,', 'difficulty breathing,', 'swelling of your face, lips, tongue, or throat,', 'severe stomach pain,', 'choking or gagging when you eat or drink,', 'severe headache,'], 'Dosage': 'The recommended dose of Cometriq is 140 mg taken orally, once daily. Cometriq should not be taken with food, and patients should not eat for at least two hours before or one hour after taking Cometriq.'}\n",
      "{'Medicine Name': 'Cabometyx', 'Use': 'Cabometyx (cabozantinib) Tablets is a kinase inhibitor indicated for the treatment of patients with advanced renal cell carcinoma (RCC) who have received prior anti-angiogenic therapy.', 'Side Effects': ['hives,', 'difficulty breathing,', 'swelling of your face, lips, tongue, or throat,', 'severe stomach pain,', 'choking or gagging feeling when you eat or drink,', 'vomiting,'], 'Dosage': 'The recommended daily dose of Cabometyx is 60 mg. Do not take Cabometyx with food. \\n\\n'}\n",
      "{'Medicine Name': 'Caduet', 'Use': 'Caduet (amlodipine besylate and atorvastatin calcium) is a combination of a calcium channel blocker and a statin drug used to treat high blood pressure (hypertension) or chest pain (angina) that occurs with high cholesterol or triglyceride levels. Common side effects of Caduet include dizziness or lightheadedness as your body adjusts to the medication.', 'Side Effects': ['hives,', 'difficulty breathing,', 'swelling of your face, lips, tongue, or throat,', 'severe dizziness,', 'muscle pain,', 'tenderness,'], 'Dosage': 'Dosage of Caduet is individualized on the basis of both effectiveness and \\ntolerance for each individual component in the treatment of hypertension/angina \\nand\\nhyperlipidemia.'}\n",
      "{'Medicine Name': 'Caelyx', 'Use': \"Caelyx (pegylated liposomal doxorubicin hydrochloride for injection) is an anthracycline topoisomerase II inhibitor indicated for monotherapy for patients with metastatic breast cancer, where there is an increased cardiac risk associated with conventional doxorubicin; advanced ovarian carcinoma in women who have failed standard first-line therapy; AIDS-related Kaposi's sarcoma (KS) in patients with low CD4 counts (less than 200 CD4 lymphocytes/mm3) and extensive mucocutaneous or visceral disease whose disease has progressed despite therapy or who are intolerant to prior systemic combination chemotherapy comprising of at least two of the following agents: a vinca alkaloid, bleomycin and doxorubicin (or another anthracycline). Caelyx is a Canadian brand name for liposomal doxorubicin hydrochloride. A brand name for liposomal doxorubicin hydrochloride in the U.S. is Doxil.\", 'Side Effects': ['redness,', 'swelling,', 'numbness, and', 'skin peeling on palms of the hands and soles of the feet (palmar-plantar erythrodysesthesia, or PPE);', 'nausea, ', 'inflammation of the mucus membranes of the nose, '], 'Dosage': 'The dose of Caelyx for breast or ovarian cancer is 50 mg/m2 body surface administered intravenously, once every 4 weeks for as long as the disease does not progress, and the patient shows no evidence of clinical cardiotoxicity and continues to tolerate treatment.'}\n",
      "{'Medicine Name': 'Cafcit', 'Use': 'Cafcit (caffeine citrate) is a central nervous system stimulant used to treat breathing problems in premature infants. Cafcit is available in generic form.', 'Side Effects': ['hives,', 'difficulty breathing,', 'swelling of your face, lips, tongue, or throat,', 'feeding problems,', 'loss of appetite,', 'vomiting,'], 'Dosage': 'Cafcit may cause serious side effects including:'}\n",
      "{'Medicine Name': 'Cafergot', 'Use': 'Cafergot (ergotamine tartrate and caffeine) is a combination of an ergot alkaloid and a stimulant used to treat a migraine type headache. Cafergot will only treat a headache that has already begun. Cafergot will not prevent migraine headaches or reduce the number of attacks. Cafergot should not be used to treat common tension headaches or any headache that seems to be different from your usual migraine headaches. Cafergot may be available in generic form.', 'Side Effects': ['nausea,', 'vomiting,', 'upset stomach,', 'restlessness, ', 'trouble sleeping, ', 'dizziness, '], 'Dosage': 'Dosage of Cafergot should start at the first sign of an attack. Adult dose is 2 tablets at the start of an attack; 1 additional tablet every 1/2 hour, if needed for full relief (maximum 6 tablets per attack, 10 per week).'}\n",
      "{'Medicine Name': 'Caffeine and Sodium Benzoate', 'Use': ' Caffeine and Sodium Benzoate Injection (caffeine alkaloid) is used along with supportive measure to treat respiratory depression associated with over dosage with CNS depressant drugs, such as narcotics. However, because of questionable benefit and transient action, most authorities believe caffeine and other analeptics should not be used in these conditions and recommend other supportive therapy. Caffeine and Sodium Benzoate Injection is available in generic form.', 'Side Effects': ['headache', 'excitement', 'agitation', 'restlessness', 'irritability', 'anxiety'], 'Dosage': 'Recommended doses of caffeine and sodium benzoate injection vary from 65-325 mg 3 times daily, to 250 mg of anhydrous caffeine in an extended-release formulation once daily. Your doctor will determine the appropriate dose.'}\n",
      "{'Medicine Name': 'Caffeine and Sodium Benzoate', 'Use': ' Caffeine and Sodium Benzoate Injection (caffeine alkaloid) is used along with supportive measure to treat respiratory depression associated with over dosage with CNS depressant drugs, such as narcotics. However, because of questionable benefit and transient action, most authorities believe caffeine and other analeptics should not be used in these conditions and recommend other supportive therapy. Caffeine and Sodium Benzoate Injection is available in generic form.', 'Side Effects': ['headache', 'excitement', 'agitation', 'restlessness', 'irritability', 'anxiety'], 'Dosage': 'Recommended doses of caffeine and sodium benzoate injection vary from 65-325 mg 3 times daily, to 250 mg of anhydrous caffeine in an extended-release formulation once daily. Your doctor will determine the appropriate dose.'}\n",
      "{'Medicine Name': 'Cafcit', 'Use': 'Cafcit (caffeine citrate) is a central nervous system stimulant used to treat breathing problems in premature infants. Cafcit is available in generic form.', 'Side Effects': ['hives,', 'difficulty breathing,', 'swelling of your face, lips, tongue, or throat,', 'feeding problems,', 'loss of appetite,', 'vomiting,'], 'Dosage': 'Cafcit may cause serious side effects including:'}\n",
      "{'Medicine Name': 'Calan', 'Use': 'Calan (verapamil hydrochloride) is a calcium channel blocker used to treat hypertension (high blood pressure), angina (chest pain), and certain heart rhythm disorders. Calan is available in generic form.', 'Side Effects': ['dizziness, ', 'slow heartbeat, ', 'constipation, ', 'nausea, ', 'headache, ', 'tiredness, '], 'Dosage': 'The usual dose of Calan to treat angina is 80 mg to 120 mg three times a day. The dosage to treat arrhythmias ranges from 240 to 480 mg/day divided into three or four daily doses. The usual initial dosage to treat hypertension is 80 mg three times a day (240 mg/day).'}\n",
      "{'Medicine Name': 'Calan SR', 'Use': '', 'Side Effects': ['constipation,', 'dizziness,', 'lightheadedness,', 'nausea, ', 'low blood pressure (hypotension),', 'headache,'], 'Dosage': 'The initial dose of Calan SR is 180 mg, given in the morning.'}\n",
      "{'Medicine Name': 'Asparlas', 'Use': 'Asparlas (calaspargase pegol - mknl) is an asparagine specific enzyme indicated as a component of a multi-agent chemotherapeutic regimen for the treatment of acute lymphoblastic leukemia in pediatric and young adult patients age 1 month to 21 years.', 'Side Effects': ['elevated transaminase,', 'bilirubin increased,', 'pancreatitis,', 'abnormal clotting studies,', 'diarrhea,', 'hypersensitivity,'], 'Dosage': 'The recommended dosage of Asparlas is 2,500 units/m2 intravenously no more frequently than every 21 days.'}\n",
      "{'Medicine Name': 'Rayaldee', 'Use': 'Rayaldee (calcifediol) extended-release capsules is a vitamin D3 analog indicated for the treatment of secondary hyperparathyroidism in adults with stage 3 or 4 chronic kidney disease and serum total 25-hydroxyvitamin D levels less than 30 ng/mL.', 'Side Effects': ['hives,', 'difficulty breathing,', 'swelling of your face, lips, tongue, or throat,', 'shortness of breath,', 'swelling,', 'rapid weight gain,'], 'Dosage': '\\nhives,\\ndifficulty breathing,\\nswelling of your face, lips, tongue, or throat,\\nshortness of breath,\\nswelling,\\nrapid weight gain,\\nconfusion,\\ntiredness,\\nnausea,\\nvomiting,\\nloss of appetite,\\nconstipation,\\nincreased thirst or urination,\\nweight loss,\\npale skin,\\nunusual tiredness,\\nlightheadedness, and\\ncold hands and feet\\n'}\n",
      "{'Medicine Name': 'Calciferol', 'Use': 'Calciferol (ergocalciferol) is vitamin D2 used to treat hypoparathyroidism (decreased functioning of the parathyroid glands), and is also used to treat rickets (softening of the bones caused by vitamin D deficiency) or low levels of phosphate in the blood (hypophosphatemia). Calciferol is available in generic form. \\n', 'Side Effects': ['thinking problems, ', 'changes in behavior, ', 'irritability, ', 'urinating more than usual, ', 'chest pain, ', 'shortness of breath, or '], 'Dosage': 'To treat Vitamin D resistant rickets the dose of Calciferol is 12,000 to 500,000 USP units daily. To treat hypoparathyroidism, the dose is 50,000 to 200,000 USP units daily taken with calcium lactate 4 g, six times per day. The range between therapeutic and toxic doses is narrow. Dosage must be individualized under close medical supervision.'}\n",
      "{'Medicine Name': 'Calcijex', 'Use': 'Calcijex (calcitriol injection) is a man-made form of vitamin D3 used to treat or prevent low calcium levels in patients undergoing long-term kidney dialysis. Calcijex is usually used along with diet, supplements, and sometimes other medications. Calcijex is available in generic form.', 'Side Effects': [], 'Dosage': 'The optimal dose of Calcijex is individually determined for each patient.'}\n",
      "{'Medicine Name': 'Taclonex', 'Use': 'Taclonex (calcipotriene and betamethasone dipropionate) Ointment is a combination of a form of vitamin D and a topical (for the skin) corticosteroid used to treat psoriasis vulgaris.', 'Side Effects': ['hives,', 'difficulty breathing,', 'swelling of your face, lips, tongue, or throat,', 'worsening of your skin condition,', 'redness, warmth, swelling, oozing, or severe irritation of any treated skin,', 'blurred vision,'], 'Dosage': 'Apply an adequate layer of Taclonex Ointment to the affected area(s) once daily for up to 4 weeks. Rub in gently and completely. The maximum weekly dose should not exceed 100 g.'}\n",
      "{'Medicine Name': 'Wynzora', 'Use': 'Wynzora (calcipotriene and betamethasone dipropionate cream) is a combination of a vitamin D analog and a corticosteroid used for the topical treatment of plaque psoriasis in patients 18 years of age and older.', 'Side Effects': ['upper respiratory infection,', 'headache, and', 'application site irritation', 'Serious eye symptoms such as sudden vision loss, blurred vision, tunnel vision, eye pain or swelling, or seeing halos around lights;', 'Serious heart symptoms such as fast, irregular, or pounding heartbeats; fluttering in your chest; shortness of breath; and sudden dizziness, lightheartedness, or passing out;', 'Severe headache, confusion, slurred speech, arm or leg weakness, trouble walking, loss of coordination, feeling unsteady, very stiff muscles, high fever, profuse sweating, or tremors.'], 'Dosage': 'The dose of Wynzora Cream is to apply to affected areas once daily for up to 8 weeks. Do not use more than 100 g per week.'}\n",
      "{'Medicine Name': 'Enstilar', 'Use': 'Enstilar (calcipotriene and betamethasone dipropionate) Foam, 0.005%/0.064%, is a combination a vitamin D analog and a corticosteroid, indicated for the topical treatment of plaque psoriasis in patients 18 years of age and older.', 'Side Effects': ['hives,', 'difficulty breathing,', 'swelling of your face, lips, tongue, or throat,', 'skin thinning,', 'skin discoloration,', 'stretch marks,'], 'Dosage': 'Apply a dose of Enstilar Foam to affected area(s) once daily for up to 4 weeks.'}\n",
      "{'Medicine Name': 'Taclonex Scalp', 'Use': 'Taclonex Topical Suspension (calcipotriene and betamethasone dipropionate) is a combination of a synthetic form of Vitamin D3 and a topical corticosteroid used to treat psoriasis vulgaris. Taclonex Topical Suspension is available in generic form.', 'Side Effects': ['confusion,', 'tiredness,', 'nausea,', 'vomiting,', 'loss of appetite,', 'constipation,'], 'Dosage': 'Apply Taclonex Topical Suspension to affected areas once daily for up to 8 weeks. Do not exceed a maximum weekly dose of 100 g.'}\n",
      "{'Medicine Name': 'Dovonex Cream', 'Use': 'Dovonex (calcipotriene) Cream is a vitamin B3 derivative indicated for the treatment of plaque psoriasis.', 'Side Effects': ['skin irritation, ', 'rash or itching, ', 'skin redness, ', 'dry or peeling skin, and ', 'worsening psoriasis. ', 'skin thinning or discoloration, '], 'Dosage': 'Dovonex Cream contains 50 micrograms of calcipotriene monohydrate per gram of cream. Apply a thin layer of Dovonex Cream to the affected skin twice daily and rub in gently and completely.'}\n",
      "{'Medicine Name': 'Sorilux', 'Use': 'Sorilux (calcipotriene) Foam, 0.005% is a manmade form of vitamin D3 used for the topical treatment of plaque psoriasis in patients aged 18 years and older.', 'Side Effects': ['skin redness', 'irritation', 'swelling', 'rash, and ', 'itching in the treated area'], 'Dosage': 'Apply a thin layer dose of Sorilux Foam twice daily to the affected areas and rub in gently and completely.'}\n",
      "{'Medicine Name': 'Dovonex Ointment', 'Use': 'Dovonex (calcipotriene) is a synthetic topical (for the skin) form of vitamin D used to treat plaque psoriasis (psoriasis with scaly patches). Dovonex is available in generic form.', 'Side Effects': ['burning, ', 'itching, ', 'rash, ', 'irritation, ', 'redness, ', 'dry skin, or '], 'Dosage': 'Apply a thin layer of Dovonex ointment in a once or twice daily dose and rub in gently and completely. Avoid using harsh, abrasive, or irritating cleansers, perfumes, or cosmetics on the area you are treating.'}\n",
      "{'Medicine Name': 'Dovonex Scalp', 'Use': 'Dovonex (calcipotriene solution) Scalp Solution, 0.005% is a synthetic topical form of vitamin D used to treat plaque psoriasis (psoriasis with scaly patches). Dovonex Scalp is available in generic form.', 'Side Effects': ['burning', 'stinging', 'tingling', 'rash', 'dry skin', 'redness'], 'Dosage': 'Comb the hair to remove scaly debris and after suitably parting, apply a dose of Dovonex Scalp Solution, 0.005%, twice daily, only to the lesions, and rub in gently and completely, taking care to prevent the solution spreading onto the forehead.'}\n",
      "{'Medicine Name': 'Miacalcin', 'Use': \"Miacalcin (calcitonin-salmon) is a man-made form of a hormone that occurs naturally in the thyroid gland used to treat Paget's disease of bone, postmenopausal osteoporosis, or high levels of calcium in the blood (hypercalcemia).\", 'Side Effects': ['hives,', 'difficulty breathing,', 'swelling of your face, lips, tongue, or throat,', 'lightheadedness,', 'muscle spasms or contractions, and', 'numbness or tingly feeling (around your mouth, or in your fingers and toes)'], 'Dosage': 'The recommended dose of Miacalcin Nasal Spray in postmenopausal osteoporotic females is one spray (200 I.U.) per day administered intranasally (in the nose), alternating nostrils daily.'}\n",
      "{'Medicine Name': 'Fortical', 'Use': 'Fortical (calcitonin-salmon rDNA origin) Nasal Spray is a manmade form of a hormone secreted by the thyroid gland used to treat brittle bone disease (osteoporosis) in women who are at least 5 years past menopause.', 'Side Effects': ['\\xa0runny or stuffy nose', 'nosebleeds', 'nasal irritation or discomfort', 'dry nose with crusting/scabs/sores', 'nasal itching or tenderness', 'redness in or around the nose'], 'Dosage': 'The recommended dose of Fortical Nasal Spray in postmenopausal osteoporotic patients is 1 spray (200 International Units) per day administered intranasally, alternating nostrils daily.'}\n",
      "{'Medicine Name': 'Rocaltrol', 'Use': 'Rocaltrol (calcitriol) is a synthetic version of Vitamin D3 used to treat calcium deficiency with hypoparathyroidism (decreased functioning of the parathyroid glands) and metabolic bone disease in people with chronic kidney failure.', 'Side Effects': ['increased thirst, ', 'urinating more than usual or changes in the amount of urine, ', 'lower back pain, ', 'heart rate changes (fast, slow, or uneven), ', 'headache, ', 'drowsiness, '], 'Dosage': 'Rocaltrol is dosed for each individual patient, and may be given in either capsule or oral solution form.'}\n",
      "{'Medicine Name': 'Vectical', 'Use': 'Vectical (calcitriol ointment) topical (for the skin) is a form of Vitamin D used to treat plaque psoriasis (raised, silvery flaking of the skin) in adults.', 'Side Effects': ['hives,', 'difficulty breathing,', 'swelling of your face, lips, tongue, or throat,', 'blistering, or severe redness, itching, or other irritation of treated areas,', 'worsening symptoms or no improvement in psoriasis,', 'nausea,'], 'Dosage': 'Apply Vectical Ointment to affected areas twice daily, morning and evening. The maximum weekly dose should not exceed 200 grams.'}\n",
      "{'Medicine Name': 'Calcijex', 'Use': 'Calcijex (calcitriol injection) is a man-made form of vitamin D3 used to treat or prevent low calcium levels in patients undergoing long-term kidney dialysis. Calcijex is usually used along with diet, supplements, and sometimes other medications. Calcijex is available in generic form.', 'Side Effects': [], 'Dosage': 'The optimal dose of Calcijex is individually determined for each patient.'}\n",
      "{'Medicine Name': 'Phoslyra', 'Use': 'Phoslyra (calcium acetate oral solution) is a phosphate binder indicated for the reduction of serum phosphorus in patients with end stage renal disease.', 'Side Effects': ['hives,', 'difficulty breathing,', 'swelling of your face, lips, tongue, or throat,', 'nausea,', 'vomiting,', 'constipation,'], 'Dosage': 'The dose of Phoslyra Oral Solution is 667 mg calcium acetate per 5 mL.'}\n",
      "{'Medicine Name': 'Phoslo', 'Use': 'Phoslo (calcium acetate) Tablet is a calcium supplement used to control the level of phosphate in the blood for patients on dialysis due to severe kidney disease. Phoslo is available in generic form.', 'Side Effects': ['nausea, ', 'vomiting, ', 'stomach upset, ', 'loss of appetite, ', 'constipation, ', 'dry mouth, '], 'Dosage': 'The recommended dosage of Phoslo is 2 tablets with each meal.'}\n",
      "{'Medicine Name': 'Eliphos', 'Use': 'Eliphos (calcium acetate tablets) is a phosphate binder indicated for the reduction of serum phosphorus in patients with end stage renal disease.', 'Side Effects': ['hives,', 'difficulty breathing,', 'swelling of your face, lips, tongue, or throat,', 'nausea,', 'vomiting,', 'constipation,'], 'Dosage': 'The starting dose of Eliphos is 2 tablets with each meal. Increase the dose every 2-3 weeks until acceptable serum phosphorus level is reached. Most patients require 3-4 Eliphos tablets with each meal.'}\n",
      "{'Medicine Name': 'Alka-Seltzer', 'Use': 'Alka-Seltzer Original (anhydrous citric acid, aspirin, and sodium bicarbonate tablet, effervescent) is a combination of two antacids and an analgesic used for the temporary relief of heartburn, acid indigestion, and sour stomach when accompanied with headache or body aches and pains; upset stomach with headache from overindulgence in food or drink; and headache, body aches, and pain alone.', 'Side Effects': ['a severe allergic reaction to aspirin (hives, facial swelling, wheezing, shock) and', 'stomach bleeding.', 'a prescription drug for diabetes, gout, or arthritis.'], 'Dosage': 'The dose of Alka-Seltzer Original for adults and children 12 years and over is 2 tablets fully dissolved in 4 ounces of water every 4 hours, or as directed by a doctor.'}\n",
      "{'Medicine Name': 'Calcium Chloride', 'Use': 'Calcium chloride injection is a mineral indicated in the immediate treatment of hypocalcemic tetany (abnormally low levels of calcium in the body that cause muscle spasm). Calcium chloride injection is also used in cardiac resuscitation, and to treat certain insect bites or stings.', 'Side Effects': ['injection site reactions (tingling, burning sensation, inflammation of the veins [phlebitis]),', 'low blood pressure, or', 'fainting.'], 'Dosage': 'The usual adult dose of calcium chloride injection varies from 5 to 10 mL depending on the condition being treated.'}\n",
      "{'Medicine Name': 'Calcium Chloride', 'Use': 'Calcium chloride injection is a mineral indicated in the immediate treatment of hypocalcemic tetany (abnormally low levels of calcium in the body that cause muscle spasm). Calcium chloride injection is also used in cardiac resuscitation, and to treat certain insect bites or stings.', 'Side Effects': ['injection site reactions (tingling, burning sensation, inflammation of the veins [phlebitis]),', 'low blood pressure, or', 'fainting.'], 'Dosage': 'The usual adult dose of calcium chloride injection varies from 5 to 10 mL depending on the condition being treated.'}\n",
      "{'Medicine Name': 'Calcium Disodium Versenate', 'Use': 'Calcium Disodium Versenate (edetate calcium disodium) Injection is a chelating agent used to treat lead poisoning.', 'Side Effects': ['hives,', 'difficulty breathing,', 'swelling of your face, lips, tongue, or throat,', 'little or no urination,', 'lightheadedness,', 'numbness or tingly feeling,'], 'Dosage': 'Calcium Disodium Versenate is administered intravenously and a physician determines the dosage.'}\n",
      "{'Medicine Name': 'Calcium Gluconate', 'Use': 'Calcium gluconate is the calcium salt of gluconic acid, an intravenous medication used to treat conditions arising from calcium deficiencies such as hypocalcemic tetany, hypocalcemia related to hypoparathyrodism, and hypocalcemia due to rapid growth or pregnancy. Calcium gluconate is available in generic form.', 'Side Effects': ['nausea, ', 'vomiting, ', 'decreased appetite, ', 'constipation, ', 'dry mouth, ', 'increased thirst, '], 'Dosage': 'The usual dosage of calcium gluconate in adults is 500 mg - 2 grams (5-20 mL); in children 200-500 mg (2-5 mL); and in infants not more than 200 mg (not more than 2 mL).'}\n",
      "{'Medicine Name': 'Radiesse', 'Use': 'Radiesse (calcium hydroxylapatite particle in an aqueous gel carrier) is a Volumizing Filler for Wrinkle Reduction used to correct moderate to severe facial wrinkles and folds, such as nasolabial folds and it is also intended for restoration and/or correction of the signs of facial fat loss (lipoatrophy) in people with human immunodeficiency virus.', 'Side Effects': ['bruising,', 'swelling,', 'redness,', 'inflammation,', 'small bumps,', 'itching,'], 'Dosage': 'The dose of Radiesse used depends on the severity of the wrinkles being treated. Patients may require a series of treatments (injections).'}\n",
      "{'Medicine Name': 'Xywav', 'Use': 'Xywav (calcium, magnesium, potassium, and sodium oxybates) is a central nervous system depressant indicated for the treatment of cataplexy or excessive daytime sleepiness (EDS) in patients 7 years of age and older with narcolepsy.', 'Side Effects': ['headache,', 'nausea,', 'dizziness,', 'decreased appetite,', 'abnormal sleep behaviors (parasomnia),', 'diarrhea,'], 'Dosage': 'The adult starting dose of Xywav is 4.5 g per night orally, divided into two doses. Titrate to effect in increments of up to 1.5 g per night per week. The recommended dosage range of Xywav for adults is 6 g to 9 g per night orally. The recommended pediatric starting dosage, titration regimen, and maximum total nightly dosage of Xywav are based on body weight.'}\n",
      "{'Medicine Name': 'Caldolor', 'Use': 'Caldolor (ibuprofen) injection is a nonsteroidal anti-inflammatory drug (NSAID) used for the management of mild to moderate pain, management of moderate to severe pain as an adjunct to opioid analgesics, and reduction of fever.', 'Side Effects': ['nausea', 'gas', 'vomiting', 'dizziness, and', 'headache', 'Serious eye symptoms such as sudden vision loss, blurred vision, tunnel vision, eye pain or swelling, or seeing halos around lights;'], 'Dosage': 'The dose of Caldolor for pain is 400 mg to 800 mg administered intravenously every 6 hours as necessary. The dose of Caldolor for fever is 400 mg intravenously, followed by 400 mg every 4 to 6 hours or 100-200 mg every 4 hours as necessary.'}\n",
      "{'Medicine Name': 'Infasurf', 'Use': 'Infasurf (calfactant) is a lung surface acting agent, or \"surfactant,\" used to treat or prevent respiratory distress syndrome (RDS) in a premature baby whose lungs have not fully developed. Infasurf helps the lungs function normally.', 'Side Effects': ['hives,', 'difficulty breathing,', 'swelling of your face, lips, tongue, or throat,', 'rash,', 'itching,', 'red, swollen, blistered, or peeling skin with or without fever,'], 'Dosage': 'Each dose of Infasurf is 3 mL/kg body weight at birth. Infasurf has been administered every 12 hours for a total of up to 3 doses.'}\n",
      "{'Medicine Name': 'CaloMist Nasal Spray', 'Use': 'CaloMist Nasal Spray (cyanocobalamin) is a synthetic form of vitamin B12 used to treat vitamin B12 deficiency in people with pernicious anemia and other conditions. The brand name CaloMist Nasal Spray is discontinued, but generic versions may be available.', 'Side Effects': ['hives,', 'difficulty breathing,', 'swelling of your face, lips, tongue, or throat,', 'easy bruising,', 'unusual bleeding,', 'purple or red spots under your skin,'], 'Dosage': 'The recommended initial dose of CaloMist Nasal Spray is one spray in each nostril once daily (25 mcg per nostril, total daily dose 50 mcg).'}\n",
      "{'Medicine Name': 'Calquence', 'Use': 'Calquence (acalabrutinib) is a kinase inhibitor indicated for the treatment of adult patients with mantle cell lymphoma (MCL) who have received at least one prior therapy.', 'Side Effects': ['hives,', 'difficulty breathing,', 'swelling of your face, lips, tongue, or throat,', 'unusual bleeding (nose, mouth, vagina, or rectum),', 'any bleeding that will not stop,', 'dizziness,'], 'Dosage': 'The recommended dose of Calquence is 100 mg orally approximately every twelve hours; swallow whole with water and with or without food.'}\n",
      "{'Medicine Name': 'Cambia', 'Use': 'Cambia (diclofenac potassium) for Oral Solution is a nonsteroidal anti-inflammatory drug (NSAID) used to treat pain or inflammation caused by arthritis or ankylosing spondylitis. The powder form of this drug is used to treat a migraine headache attack. Cambia will only treat a headache that has already begun. Cambia will not prevent headaches or reduce the number of attacks.', 'Side Effects': ['hives,', 'difficulty breathing,', 'swelling of your face, lips, tongue, or throat,', 'sneezing, runny or stuffy nose,', 'wheezing,', 'skin rash (no matter how mild),'], 'Dosage': 'Administer one packet (50 mg dose) of Cambia for the acute treatment of migraine. Empty the contents of one packet into a cup containing 1 to 2 ounces (30 to 60 mL) of water, mix well and drink immediately. Do not use liquids other than water.'}\n",
      "{'Medicine Name': 'Camcevi', 'Use': 'What Is Camcevi?', 'Side Effects': ['hot flushes,', 'high blood pressure (hypertension),', 'injection site reactions (pain, redness, injection site bleeding, a lump, numbness and tingling, itching, and warmth),', 'upper respiratory tract infections,', 'musculoskeletal pain,', 'fatigue,'], 'Dosage': 'N/A'}\n",
      "{'Medicine Name': 'Campath', 'Use': 'Campath (alemtuzumab) is an antibody made from animal DNA used to treat chronic lymphocytic leukemia. Campath is usually given after other medications have been tried without successful treatment.', 'Side Effects': ['hives,', 'difficulty breathing,', 'swelling of your face, lips, tongue, or throat,', 'fever,', 'chills,', 'nausea,'], 'Dosage': \"Campath medication is given intravenously under physician supervision, usually over 2 hours. Dosage is based on the patient's response to treatment. Patients are usually started on a low dose of the medication, and the dose may be slowly increased.\"}\n",
      "{'Medicine Name': 'Campral', 'Use': 'Campral (acamprosate calcium) works by restoring the natural balance of chemicals in the brain (neurotransmitters) and is used to help alcohol-dependent patients keep from drinking alcohol. Campral should be used as part of a complete treatment program that includes both counseling and psychological support. Campral is unlikely to be helpful to a person who has not already quit drinking or undergone detoxification. Campral may not be helpful to a person who is also addicted to other substances besides alcohol.', 'Side Effects': ['diarrhea, ', 'nausea, ', 'vomiting, ', 'gas, ', 'stomach pain, ', 'loss of appetite, '], 'Dosage': 'The recommended dose of Campral is two 333 mg tablets (each dose should total 666 mg) taken three times daily.'}\n",
      "{'Medicine Name': 'Camptosar Inj', 'Use': 'Camptosar Injection (irinotecan hydrochloride) is an antineoplastic (anticancer) medication used to treat cancers of the colon and rectum. Camptosar Injection is usually given with other cancer medicines in combination chemotherapy. Camptosar Injection is available in generic form.', 'Side Effects': ['nausea or vomiting (may be severe),', 'loss of appetite,', 'constipation,', 'cough,', 'drowsiness,', 'mouth sores, '], 'Dosage': 'Camptosar is administered as an intravenous infusion over 90 minutes in a weekly or once-every-3-week dosage schedule. Dose is individualized.'}\n",
      "{'Medicine Name': 'Camrese', 'Use': 'Camrese (levonorgestrel/ethinyl estradiol and ethinyl estradiol kit) is a combined oral contraceptive (COC) indicated for use by women to prevent pregnancy.', 'Side Effects': ['irregular or heavy uterine bleeding,', 'nausea,', 'breast tenderness,', 'headache,', 'weight gain, ', 'mood changes, and'], 'Dosage': 'The dose of Camrese is one tablet taken by mouth at the same time every day. The dosage of Camrese is one light blue-green tablet containing levonorgestrel and ethinyl estradiol daily for 84 consecutive days, followed by one yellow ethinyl estradiol tablet for 7 days. '}\n",
      "{'Medicine Name': 'Camzyos', 'Use': 'Camzyos (mavacamten) is a cardiac myosin inhibitor indicated for the treatment of adults with symptomatic New York Heart Association (NYHA) class II-III obstructive hypertrophic cardiomyopathy (HCM) to improve functional capacity and symptoms.', 'Side Effects': ['hives,\\xa0', 'difficulty breathing,\\xa0', 'swelling of your face, lips, tongue, or throat,\\xa0', 'fainting, and', 'reduced left ventricular ejection fraction from the heart', 'dizziness and'], 'Dosage': 'The dosage of Camzyos must be individualized based on clinical status and echocardiographic assessment of patient response.'}\n",
      "{'Medicine Name': 'Invokamet XR', 'Use': 'Invokamet XR (canagliflozin and metformin hydrochloride extended-release) is a sodium-glucose co-transporter 2 (SGLT2) inhibitor and biguanide combination product indicated as an adjunct to diet and exercise to improve glycemic control in adults with type 2 diabetes mellitus when treatment with both canagliflozin and metformin is appropriate.', 'Side Effects': ['hives,', 'difficulty breathing,', 'swelling of your face, lips, tongue, or throat,', 'burning, itching, odor, discharge, pain, tenderness, redness or swelling of the genital or rectal area,', 'fever,', 'feeling unwell,'], 'Dosage': \"The dose of Invokamet XR is individualized based on the patient's current regimen. Take Invokamet XR tablets once daily with the morning meal.\"}\n",
      "{'Medicine Name': 'Invokamet', 'Use': 'Invokamet (canagliflozin and metformin hydrochloride) contains two antihyperglycemic drugs used as an adjunct to diet and exercise to improve glycemic control in adults with type 2 diabetes mellitus who are not adequately controlled on a regimen containing metformin or canagliflozin, or in patients who are already treated with both canagliflozin and metformin.', 'Side Effects': ['hives,', 'difficulty breathing,', 'swelling of your face, lips, tongue, or throat,', 'burning, itching, odor, discharge, pain, tenderness, redness or swelling of the genital or rectal area,', 'fever,', 'feeling unwell,'], 'Dosage': \"The starting dose of Invokamet is individualized based on the patient's current regimen.\"}\n",
      "{'Medicine Name': 'Invokana', 'Use': 'Invokana (canagliflozin) is a sodium-glucose co-transporter 2 (SGLT2) inhibitor used to control blood sugar in people with type 2 diabetes mellitus, in addition to diet and exercise.', 'Side Effects': ['swelling,', 'hives,', 'difficulty breathing,', 'swelling of your tongue, mouth or throat,', 'bloody or cloudy urine,', 'decreased amount of urine,'], 'Dosage': 'The recommended starting dose of Invokana is 100 mg once daily, taken before the first meal of the day. Doses may be increased to 300 mg in patients who are able to tolerate Invokana at 100 mg doses.'}\n",
      "{'Medicine Name': 'Ilaris', 'Use': 'What is ILARIS and how is it used?', 'Side Effects': ['The following Periodic Fever Syndromes\\n\\t\\nAdults and children 4 years of age and older who have auto-inflammatory diseases called Cryopyrin-Associated Periodic Syndromes (CAPS), including:\\n\\t\\t\\nFamilial Cold Auto-inflammatory Syndrome (FCAS)\\nMuckle-Wells Syndrome (MWS)\\n\\n\\nAdults and children who have an auto-inflammatory disease called Tumor Necrosis Factor Receptor Associated Periodic Syndrome (TRAPS)\\nAdults and children who have an auto-inflammatory disease called Hyperimmunoglobulin D Syndrome (HIDS) (also known as Mevalonate Kinase Deficiency (MKD).\\nAdults and children who have an auto-inflammatory disease called Familial Mediterranean Fever (FMF).\\n\\n', 'Adults and children 4 years of age and older who have auto-inflammatory diseases called Cryopyrin-Associated Periodic Syndromes (CAPS), including:\\n\\t\\t\\nFamilial Cold Auto-inflammatory Syndrome (FCAS)\\nMuckle-Wells Syndrome (MWS)\\n\\n', 'Familial Cold Auto-inflammatory Syndrome (FCAS)', 'Muckle-Wells Syndrome (MWS)', 'Adults and children who have an auto-inflammatory disease called Tumor Necrosis Factor Receptor Associated Periodic Syndrome (TRAPS)', 'Adults and children who have an auto-inflammatory disease called Hyperimmunoglobulin D Syndrome (HIDS) (also known as Mevalonate Kinase Deficiency (MKD).'], 'Dosage': 'During pregnancy, should be used only if prescribed. It is unknown if Ilaris passes into breast milk. Consult your doctor before breastfeeding.'}\n",
      "{'Medicine Name': 'Canasa', 'Use': 'Canasa (mesalamine) is an anti-inflammatory drug used to treat ulcerative colitis, proctitis, and proctosigmoiditis. Canasa is also used to prevent the symptoms of ulcerative colitis from recurring.', 'Side Effects': ['rectal pain, ', 'pain when inserting the suppository, ', 'headache, ', 'gas, ', 'nausea, ', 'vomiting, '], 'Dosage': 'The usual dosage of Canasa 1000 mg suppositories is one rectal suppository 1 time daily at bedtime.'}\n",
      "{'Medicine Name': 'Cancidas', 'Use': '  Cancidas (caspofungin acetate) is an antifungal antibiotic used to treat fungal infections that involve the stomach, lungs, esophagus, or other internal body areas.', 'Side Effects': ['hives,', 'difficulty breathing,', 'swelling of your face, lips, tongue, or throat,', 'fever,', 'sore throat,', 'burning in your eyes,'], 'Dosage': \"The usual adult dose of Cancidas is one 70 mg loading dose, followed by 50 mg once daily, continuing for at least 14 days after symptom resolution. Pediatric dose is calculated based on the child's body surface area.\"}\n",
      "{'Medicine Name': 'Atacand', 'Use': 'Atacand (candesartan cilexetil) is a selective AT1 subtype angiotensin II receptor antagonist used to treat high blood pressure (hypertension) in adults and children 1 to less than 17 years of age.', 'Side Effects': ['lightheadedness,', 'fast or slow heartbeats,', 'unusual muscle pain or weakness,', 'nausea,', 'weakness,', 'tingly feeling,'], 'Dosage': 'The usual recommended starting dose of Atacand is 16 mg once daily when it is used as monotherapy in patients who are not volume depleted. Atacand can be administered once or twice daily with total daily doses ranging from 8 mg to 32 mg.'}\n",
      "{'Medicine Name': 'Candesartan Cilexetil Hydrochlorothiazide', 'Use': '', 'Side Effects': ['upper respiratory tract infection, ', 'back pain, ', 'flu-like symptoms, ', 'dizziness, ', 'cough, ', 'itching and '], 'Dosage': 'N/A'}\n",
      "{'Medicine Name': 'Candesartan Cilexetil Hydrochlorothiazide', 'Use': '', 'Side Effects': ['upper respiratory tract infection, ', 'back pain, ', 'flu-like symptoms, ', 'dizziness, ', 'cough, ', 'itching and '], 'Dosage': 'N/A'}\n",
      "{'Medicine Name': 'Atacand HCT', 'Use': 'Atacand HCT (candesartan cilexetil - hydrochlorothiazide) Tablets is an angiotensin receptor blocker (ARB) and a thiazide diuretic used to treat high blood pressure. Atacand HCT is available in generic form.', 'Side Effects': ['hives,', 'difficulty breathing,', 'swelling of your face, lips, tongue, or throat,', 'muscle pain,', 'tenderness,', 'weakness,'], 'Dosage': 'The recommended dosage of Atacand HCT is 16 mg once daily. Other diuretics, steroids, lithium, insulin, barbiturates, aspirin, ibuprofen, muscle relaxers, and narcotics may interact with Atacand HCT. Tell your doctor all medications you take.'}\n",
      "{'Medicine Name': 'Candin', 'Use': 'Candin (Candida albicans) Skin Test Antigen is a DTH skin test used to evaluate cellular immune response to Candida albicans.', 'Side Effects': ['hives,', 'difficulty breathing,', 'swelling of your face, lips, tongue, or throat,', 'itching, swelling, pain and blistering at the test site,', 'fast heart rate,', 'dizziness,'], 'Dosage': \"The recommended dose of Candin is 0.1 mL. Candin must be administered under a doctor's supervision.\"}\n",
      "{'Medicine Name': 'Candin', 'Use': 'Candin (Candida albicans) Skin Test Antigen is a DTH skin test used to evaluate cellular immune response to Candida albicans.', 'Side Effects': ['hives,', 'difficulty breathing,', 'swelling of your face, lips, tongue, or throat,', 'itching, swelling, pain and blistering at the test site,', 'fast heart rate,', 'dizziness,'], 'Dosage': \"The recommended dose of Candin is 0.1 mL. Candin must be administered under a doctor's supervision.\"}\n",
      "{'Medicine Name': 'Kengreal', 'Use': 'Kengreal (cangrelor) is antiplatelet agent used as an adjunct to percutaneous coronary intervention (PCI) for reducing the risk of periprocedural myocardial infarction (MI), repeat coronary revascularization, and stent thrombosis (ST) in patients in who have not been treated with a P2Y12 platelet inhibitor and are not being given a glycoprotein IIb/IIIa inhibitor.', 'Side Effects': ['hives,', 'difficulty breathing,', 'swelling of your face, lips, tongue, or throat,', 'severe dizziness,', 'severe bleeding, and', 'shock'], 'Dosage': 'Kengreal is administered in a 30 µg/kg intravenous (IV) bolus dose prior to PCI followed immediately by a 4 µg/kg/min IV infusion for at least 2 hours or duration of procedure, whichever is longer.'}\n",
      "{'Medicine Name': 'Epidiolex', 'Use': 'Epidiolex (cannabidiol) oral solution, CX is a plant-derived cannabidiol (CBD) antiepileptic drug (AED) indicated for the treatment of seizures associated with Lennox-Gastaut syndrome or Dravet syndrome in patients 2 years of age and older.', 'Side Effects': ['hives,', 'difficulty breathing,', 'swelling of your face, lips, tongue, or throat,', 'mood changes,', 'anxiety,', 'panic attacks,'], 'Dosage': 'The recommended starting dosage of Epidiolexis 2.5 mg/kg taken twice daily (5 mg/kg/day). After one week, the dosage can be increased to a maintenance dosage of 5 mg/kg twice daily (10 mg/kg/day).'}\n",
      "{'Medicine Name': 'Ycanth', 'Use': 'Ycanth (cantharidin) is a vesicant indicated for the topical treatment of molluscum contagiosum in adult and pediatric patients 2 years of age and older.', 'Side Effects': ['local skin reactions at the application site such as blistering, pain, itching, scabbing, redness, discoloration, application site dryness, swelling, and skin breakdown.', 'Serious eye symptoms such as sudden vision loss, blurred vision,tunnel vision,eye painor swelling, or seeing halos around lights;', 'Serious heart symptoms such as fast, irregular, or pounding heartbeats; fluttering in your chest; shortness of breath; and sudden dizziness, lightheadedness, or passing out;', 'Severe headache,confusion, slurred speech, arm or leg weakness, trouble walking, loss of coordination, feeling unsteady, very stiff muscles, high fever, profuse sweating, or tremors.'], 'Dosage': 'The dose of Ycanth is a single application applied directly to each lesion every 3 weeks as needed.'}\n",
      "{'Medicine Name': 'Cantil', 'Use': 'Cantil (mepenzolate bromide) is an anticholinergic drug used to treat peptic ulcers of the stomach. Cantil does not help heal an ulcer.', 'Side Effects': ['hives,', 'difficulty breathing,', 'swelling of your face, lips, tongue, or throat,', 'mental or mood changes,', 'eye pain or pressure,', 'fast or pounding heartbeat,'], 'Dosage': ' The usual adult dose of Cantil is 1 or 2 tablets (25 or 50 mg) 4 times a day preferably with meals and at bedtime.'}\n",
      "{'Medicine Name': 'Capastat Sulfate', 'Use': 'Capastat Sulfate (capremycin) for Injection is an antibiotic used to treat Mycobacterium tuberculosis. Capastat Sulfate is usually given after other tuberculosis medications have been tried without successful treatment of the infection.', 'Side Effects': [' skin rash', ' fever', ' chills', ' body aches', ' flu symptoms, and', ' injection site reactions (pain, irritation, swelling, or a hard lump)'], 'Dosage': 'Capastat Sulfate may be administered intramuscularly or intravenously. The usual dose is 1 g daily (not to exceed 20 mg/kg/day) given intramuscularly or intravenously for 60 to 120 days, followed by 1 g by either route 2 or 3 times weekly.'}\n",
      "{'Medicine Name': 'Xeloda', 'Use': 'Xeloda (capecitabine) is an antineoplastic (anti-cancer) medication used to treat breast cancer and colon or rectum cancer that has spread to other parts of the body.', 'Side Effects': ['fever above 100.5 degrees,', 'nausea,', 'loss of appetite,', 'eating much less than usual,', 'vomiting (more than once in 24 hours),', 'severe diarrhea (more than 4 times per day, or during the night),'], 'Dosage': 'Dose of Xeloda is calculated according to body surface area. Xeloda tablets are swallowed whole with water within 30 minutes after a meal.'}\n",
      "{'Medicine Name': 'Capecitabine Tablets', 'Use': \"Capecitabine Tablets are a nucleoside metabolic inhibitor with antineoplastic activity indicated for adjuvant colon cancer (patients with Dukes' C colon cancer); metastatic colorectal cancer (first-line as monotherapy when treatment with fluoropyrimidine therapy alone is preferred); and metastatic breast cancer (in combination with docetaxel after failure of prior anthracycline-containing therapy, and as monotherapy in patients resistant to both paclitaxel and an anthracycline-containing regimen). Capecitabine is available in generic form.\", 'Side Effects': ['diarrhea (may be severe), ', 'hand-and-foot syndrome, ', 'nausea, ', 'vomiting, ', 'abdominal pain, ', 'fatigue, '], 'Dosage': 'As monotherapy, the dose of capecitabine is 1250 mg/m twice daily orally for 2 weeks followed by a one-week rest period in 3-week cycle. Adjuvant treatment is recommended for a total of 6 months (8 cycles). In combination with docetaxel, the recommended dose of capecitabine tablets is 1250 mg/m twice daily for 2 weeks followed by a 7-day rest period, combined with docetaxel at 75 mg/m as a 1-hour IV infusion every 3 weeks. Food can reduce both the rate and extent of absorption of capecitabine and it is recommended to take the dose 30 minutes after a meal.'}\n",
      "{'Medicine Name': 'Capecitabine Tablets', 'Use': \"Capecitabine Tablets are a nucleoside metabolic inhibitor with antineoplastic activity indicated for adjuvant colon cancer (patients with Dukes' C colon cancer); metastatic colorectal cancer (first-line as monotherapy when treatment with fluoropyrimidine therapy alone is preferred); and metastatic breast cancer (in combination with docetaxel after failure of prior anthracycline-containing therapy, and as monotherapy in patients resistant to both paclitaxel and an anthracycline-containing regimen). Capecitabine is available in generic form.\", 'Side Effects': ['diarrhea (may be severe), ', 'hand-and-foot syndrome, ', 'nausea, ', 'vomiting, ', 'abdominal pain, ', 'fatigue, '], 'Dosage': 'As monotherapy, the dose of capecitabine is 1250 mg/m twice daily orally for 2 weeks followed by a one-week rest period in 3-week cycle. Adjuvant treatment is recommended for a total of 6 months (8 cycles). In combination with docetaxel, the recommended dose of capecitabine tablets is 1250 mg/m twice daily for 2 weeks followed by a 7-day rest period, combined with docetaxel at 75 mg/m as a 1-hour IV infusion every 3 weeks. Food can reduce both the rate and extent of absorption of capecitabine and it is recommended to take the dose 30 minutes after a meal.'}\n"
     ]
    }
   ],
   "source": [
    "medicines_dataF=[]\n",
    "m=0\n",
    "wait = WebDriverWait(driver, 30)\n",
    "for i in range(0,ulA):\n",
    "    s=list_sizes[i]\n",
    "    print(s)\n",
    "    for j in range(1,s+1):\n",
    "        second = wait.until(EC.element_to_be_clickable((By.XPATH, f'//*[@id=\"AZ_container\"]/div/ul[{i+1}]/li[{j}]/a'))) #This will make sure that page is loaded before clicking\n",
    "        driver.execute_script(\"arguments[0].click()\", second)\n",
    "        soup=BeautifulSoup(driver.page_source,'html.parser') #Beautiful spup is loaded for  each webpage\n",
    "        medicine_name=soup.find('h1').get_text().strip() #The h1 heading is extracted as Medicine name\n",
    "        mai=soup.find('div',class_='monograph_cont')\n",
    "        symptom=mai.find('p').text #The first paragraph is extracted as the use of the medicine\n",
    "        dosage=mai.find_all('h4')[2].findNextSibling().text if len(mai.find_all('h4')) > 2 else \"N/A\" #The dosage is extracted from the 3rd h4 tag\n",
    "        side=mai.findAll('li')[0:6] #The first 6 side effects are extracted\n",
    "        side_effects=[]\n",
    "        for effect in side:\n",
    "            side_effects.append(effect.text)\n",
    "        medicine_data = {\n",
    "    'Medicine Name': medicine_name,\n",
    "    'Use': symptom,\n",
    "    'Side Effects': side_effects,\n",
    "    'Dosage': dosage\n",
    "}\n",
    "        print(medicine_data)\n",
    "        medicines_dataF.append(medicine_data)\n",
    "        driver.back()\n",
    " \n",
    "\n"
   ]
  },
  {
   "cell_type": "code",
   "execution_count": 13,
   "metadata": {},
   "outputs": [
    {
     "data": {
      "text/plain": [
       "121"
      ]
     },
     "execution_count": 13,
     "metadata": {},
     "output_type": "execute_result"
    }
   ],
   "source": [
    "len(medicines_dataF)"
   ]
  },
  {
   "cell_type": "code",
   "execution_count": 77,
   "metadata": {},
   "outputs": [
    {
     "data": {
      "text/html": [
       "<div>\n",
       "<style scoped>\n",
       "    .dataframe tbody tr th:only-of-type {\n",
       "        vertical-align: middle;\n",
       "    }\n",
       "\n",
       "    .dataframe tbody tr th {\n",
       "        vertical-align: top;\n",
       "    }\n",
       "\n",
       "    .dataframe thead th {\n",
       "        text-align: right;\n",
       "    }\n",
       "</style>\n",
       "<table border=\"1\" class=\"dataframe\">\n",
       "  <thead>\n",
       "    <tr style=\"text-align: right;\">\n",
       "      <th></th>\n",
       "      <th>Medicine Name</th>\n",
       "      <th>Use</th>\n",
       "      <th>Side Effects</th>\n",
       "      <th>Dosage</th>\n",
       "    </tr>\n",
       "  </thead>\n",
       "  <tbody>\n",
       "    <tr>\n",
       "      <th>0</th>\n",
       "      <td>A-Methapred</td>\n",
       "      <td>A-Methapred (methylprednisolone sodium succina...</td>\n",
       "      <td>['muscle weakness', 'peptic ulcer', 'slow woun...</td>\n",
       "      <td>Dosage recommendations for A-Methapred vary fo...</td>\n",
       "    </tr>\n",
       "    <tr>\n",
       "      <th>1</th>\n",
       "      <td>Kivexa</td>\n",
       "      <td>Kivexa (abacavir and lamivudine) is a combinat...</td>\n",
       "      <td>['hives,', 'difficulty breathing,', 'swelling ...</td>\n",
       "      <td>The recommended dose of Kivexa tablets in adul...</td>\n",
       "    </tr>\n",
       "    <tr>\n",
       "      <th>2</th>\n",
       "      <td>Ziagen</td>\n",
       "      <td>Ziagen (abacavir sulfate) is an antiviral medi...</td>\n",
       "      <td>['trouble sleeping, ', 'loss of appetite, ', '...</td>\n",
       "      <td>The recommended oral dose of Ziagen for adults...</td>\n",
       "    </tr>\n",
       "    <tr>\n",
       "      <th>3</th>\n",
       "      <td>Epzicom</td>\n",
       "      <td>Epzicom (abacavir sulfate and lamivudine) is a...</td>\n",
       "      <td>['headache, ', 'nausea, ', 'diarrhea, ', 'dizz...</td>\n",
       "      <td>The recommended oral dose of Epzicom for adult...</td>\n",
       "    </tr>\n",
       "    <tr>\n",
       "      <th>4</th>\n",
       "      <td>Trizivir</td>\n",
       "      <td>Trizivir (abacavir sulfate, lamivudine, and zi...</td>\n",
       "      <td>['headache, ', 'tiredness, ', 'weakness, ', 'n...</td>\n",
       "      <td>The recommended oral dose of Trizivir is one t...</td>\n",
       "    </tr>\n",
       "    <tr>\n",
       "      <th>...</th>\n",
       "      <td>...</td>\n",
       "      <td>...</td>\n",
       "      <td>...</td>\n",
       "      <td>...</td>\n",
       "    </tr>\n",
       "    <tr>\n",
       "      <th>903</th>\n",
       "      <td>Meruvax</td>\n",
       "      <td>Meruvax II (rubella virus) Vaccine Live is a l...</td>\n",
       "      <td>[]</td>\n",
       "      <td>The dose of Meruvax II for any age is 0.5 mL a...</td>\n",
       "    </tr>\n",
       "    <tr>\n",
       "      <th>904</th>\n",
       "      <td>Canasa</td>\n",
       "      <td>Canasa (mesalamine) is an anti-inflammatory dr...</td>\n",
       "      <td>[rectal pain, , pain when inserting the suppos...</td>\n",
       "      <td>The usual dosage of Canasa 1000 mg suppositori...</td>\n",
       "    </tr>\n",
       "    <tr>\n",
       "      <th>905</th>\n",
       "      <td>Pentasa</td>\n",
       "      <td>Pentasa (mesalamine) is an anti-inflammatory a...</td>\n",
       "      <td>[severe stomach pain,, stomach cramping,, bloo...</td>\n",
       "      <td>The recommended dosage of Pentasa for the indu...</td>\n",
       "    </tr>\n",
       "    <tr>\n",
       "      <th>906</th>\n",
       "      <td>Lialda</td>\n",
       "      <td>Lialda (mesalamine) is an anti-inflammatory ag...</td>\n",
       "      <td>[nausea, , vomiting, , stomach cramps, , diarr...</td>\n",
       "      <td>The recommended dosage of Lialda for the induc...</td>\n",
       "    </tr>\n",
       "    <tr>\n",
       "      <th>907</th>\n",
       "      <td>Delzicol</td>\n",
       "      <td>Delzicol (mesalamine) is an aminosalicylate us...</td>\n",
       "      <td>[hives,, difficulty breathing,, swelling of yo...</td>\n",
       "      <td>Delzicol is available as a delayed-release cap...</td>\n",
       "    </tr>\n",
       "  </tbody>\n",
       "</table>\n",
       "<p>908 rows × 4 columns</p>\n",
       "</div>"
      ],
      "text/plain": [
       "    Medicine Name                                                Use  \\\n",
       "0     A-Methapred  A-Methapred (methylprednisolone sodium succina...   \n",
       "1          Kivexa  Kivexa (abacavir and lamivudine) is a combinat...   \n",
       "2          Ziagen  Ziagen (abacavir sulfate) is an antiviral medi...   \n",
       "3         Epzicom  Epzicom (abacavir sulfate and lamivudine) is a...   \n",
       "4        Trizivir  Trizivir (abacavir sulfate, lamivudine, and zi...   \n",
       "..            ...                                                ...   \n",
       "903       Meruvax  Meruvax II (rubella virus) Vaccine Live is a l...   \n",
       "904        Canasa  Canasa (mesalamine) is an anti-inflammatory dr...   \n",
       "905       Pentasa  Pentasa (mesalamine) is an anti-inflammatory a...   \n",
       "906        Lialda  Lialda (mesalamine) is an anti-inflammatory ag...   \n",
       "907      Delzicol  Delzicol (mesalamine) is an aminosalicylate us...   \n",
       "\n",
       "                                          Side Effects  \\\n",
       "0    ['muscle weakness', 'peptic ulcer', 'slow woun...   \n",
       "1    ['hives,', 'difficulty breathing,', 'swelling ...   \n",
       "2    ['trouble sleeping, ', 'loss of appetite, ', '...   \n",
       "3    ['headache, ', 'nausea, ', 'diarrhea, ', 'dizz...   \n",
       "4    ['headache, ', 'tiredness, ', 'weakness, ', 'n...   \n",
       "..                                                 ...   \n",
       "903                                                 []   \n",
       "904  [rectal pain, , pain when inserting the suppos...   \n",
       "905  [severe stomach pain,, stomach cramping,, bloo...   \n",
       "906  [nausea, , vomiting, , stomach cramps, , diarr...   \n",
       "907  [hives,, difficulty breathing,, swelling of yo...   \n",
       "\n",
       "                                                Dosage  \n",
       "0    Dosage recommendations for A-Methapred vary fo...  \n",
       "1    The recommended dose of Kivexa tablets in adul...  \n",
       "2    The recommended oral dose of Ziagen for adults...  \n",
       "3    The recommended oral dose of Epzicom for adult...  \n",
       "4    The recommended oral dose of Trizivir is one t...  \n",
       "..                                                 ...  \n",
       "903  The dose of Meruvax II for any age is 0.5 mL a...  \n",
       "904  The usual dosage of Canasa 1000 mg suppositori...  \n",
       "905  The recommended dosage of Pentasa for the indu...  \n",
       "906  The recommended dosage of Lialda for the induc...  \n",
       "907  Delzicol is available as a delayed-release cap...  \n",
       "\n",
       "[908 rows x 4 columns]"
      ]
     },
     "execution_count": 77,
     "metadata": {},
     "output_type": "execute_result"
    }
   ],
   "source": [
    "dfrm=pd.read_csv('a-b-c-d-e-f-g-h-i-j-k-l.csv')\n",
    "data=pd.DataFrame(medicines_dataF)\n",
    "data1=pd.concat([dfrm,data]).reset_index(drop=True)\n",
    "data1"
   ]
  },
  {
   "cell_type": "code",
   "execution_count": 1,
   "metadata": {},
   "outputs": [
    {
     "ename": "NameError",
     "evalue": "name 'data1' is not defined",
     "output_type": "error",
     "traceback": [
      "\u001b[1;31m---------------------------------------------------------------------------\u001b[0m",
      "\u001b[1;31mNameError\u001b[0m                                 Traceback (most recent call last)",
      "Cell \u001b[1;32mIn[1], line 1\u001b[0m\n\u001b[1;32m----> 1\u001b[0m \u001b[43mdata1\u001b[49m\u001b[38;5;241m.\u001b[39mto_csv(\u001b[38;5;124m'\u001b[39m\u001b[38;5;124ma-b-c-d-e-f-g-h-i-j-k-l-m.csv\u001b[39m\u001b[38;5;124m'\u001b[39m,index\u001b[38;5;241m=\u001b[39m\u001b[38;5;28;01mTrue\u001b[39;00m)\n",
      "\u001b[1;31mNameError\u001b[0m: name 'data1' is not defined"
     ]
    }
   ],
   "source": [
    "data1.to_csv('a-b-c-d-e-f-g-h-i-j-k-l-m.csv',index=True)\n",
    "    "
   ]
  },
  {
   "cell_type": "code",
   "execution_count": 2,
   "metadata": {},
   "outputs": [
    {
     "ename": "NameError",
     "evalue": "name 'pd' is not defined",
     "output_type": "error",
     "traceback": [
      "\u001b[1;31m---------------------------------------------------------------------------\u001b[0m",
      "\u001b[1;31mNameError\u001b[0m                                 Traceback (most recent call last)",
      "Cell \u001b[1;32mIn[2], line 1\u001b[0m\n\u001b[1;32m----> 1\u001b[0m dfrm\u001b[38;5;241m=\u001b[39m\u001b[43mpd\u001b[49m\u001b[38;5;241m.\u001b[39mread_csv(\u001b[38;5;124m'\u001b[39m\u001b[38;5;124ma-b-c-d-e-f-g-h-i-j-k-l-m.csv\u001b[39m\u001b[38;5;124m'\u001b[39m)\n",
      "\u001b[1;31mNameError\u001b[0m: name 'pd' is not defined"
     ]
    }
   ],
   "source": [
    "dfrm=pd.read_csv('a-b-c-d-e-f-g-h-i-j-k-l-m.csv')"
   ]
  }
 ],
 "metadata": {
  "kernelspec": {
   "display_name": "Python 3",
   "language": "python",
   "name": "python3"
  },
  "language_info": {
   "codemirror_mode": {
    "name": "ipython",
    "version": 3
   },
   "file_extension": ".py",
   "mimetype": "text/x-python",
   "name": "python",
   "nbconvert_exporter": "python",
   "pygments_lexer": "ipython3",
   "version": "3.11.7"
  }
 },
 "nbformat": 4,
 "nbformat_minor": 2
}
